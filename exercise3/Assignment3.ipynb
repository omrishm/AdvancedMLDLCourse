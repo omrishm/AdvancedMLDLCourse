{
  "nbformat": 4,
  "nbformat_minor": 0,
  "metadata": {
    "colab": {
      "provenance": []
    },
    "kernelspec": {
      "name": "python3",
      "display_name": "Python 3"
    },
    "language_info": {
      "name": "python"
    },
    "gpuClass": "standard",
    "widgets": {
      "application/vnd.jupyter.widget-state+json": {
        "e20f82ceac61439dad822b9ea52366b0": {
          "model_module": "@jupyter-widgets/controls",
          "model_name": "HBoxModel",
          "model_module_version": "1.5.0",
          "state": {
            "_dom_classes": [],
            "_model_module": "@jupyter-widgets/controls",
            "_model_module_version": "1.5.0",
            "_model_name": "HBoxModel",
            "_view_count": null,
            "_view_module": "@jupyter-widgets/controls",
            "_view_module_version": "1.5.0",
            "_view_name": "HBoxView",
            "box_style": "",
            "children": [
              "IPY_MODEL_9505798cbd604592bebfb3e4ff40ed67",
              "IPY_MODEL_b643d9f0c41444f39df80e6bb2c09621",
              "IPY_MODEL_c2b28071da284d149de5340ad4ef60c7"
            ],
            "layout": "IPY_MODEL_f88dff446c2c43ed9207bf50adfa17f4"
          }
        },
        "9505798cbd604592bebfb3e4ff40ed67": {
          "model_module": "@jupyter-widgets/controls",
          "model_name": "HTMLModel",
          "model_module_version": "1.5.0",
          "state": {
            "_dom_classes": [],
            "_model_module": "@jupyter-widgets/controls",
            "_model_module_version": "1.5.0",
            "_model_name": "HTMLModel",
            "_view_count": null,
            "_view_module": "@jupyter-widgets/controls",
            "_view_module_version": "1.5.0",
            "_view_name": "HTMLView",
            "description": "",
            "description_tooltip": null,
            "layout": "IPY_MODEL_d09e44ad053a44e0bf398966b4a687df",
            "placeholder": "​",
            "style": "IPY_MODEL_85b033ed15364fcaac404e6c7df7f989",
            "value": "100%"
          }
        },
        "b643d9f0c41444f39df80e6bb2c09621": {
          "model_module": "@jupyter-widgets/controls",
          "model_name": "FloatProgressModel",
          "model_module_version": "1.5.0",
          "state": {
            "_dom_classes": [],
            "_model_module": "@jupyter-widgets/controls",
            "_model_module_version": "1.5.0",
            "_model_name": "FloatProgressModel",
            "_view_count": null,
            "_view_module": "@jupyter-widgets/controls",
            "_view_module_version": "1.5.0",
            "_view_name": "ProgressView",
            "bar_style": "success",
            "description": "",
            "description_tooltip": null,
            "layout": "IPY_MODEL_7b48ad884ac546bd83baa5a3de62d075",
            "max": 70405,
            "min": 0,
            "orientation": "horizontal",
            "style": "IPY_MODEL_6640958e183240f0bb61ecccfdde5d68",
            "value": 70405
          }
        },
        "c2b28071da284d149de5340ad4ef60c7": {
          "model_module": "@jupyter-widgets/controls",
          "model_name": "HTMLModel",
          "model_module_version": "1.5.0",
          "state": {
            "_dom_classes": [],
            "_model_module": "@jupyter-widgets/controls",
            "_model_module_version": "1.5.0",
            "_model_name": "HTMLModel",
            "_view_count": null,
            "_view_module": "@jupyter-widgets/controls",
            "_view_module_version": "1.5.0",
            "_view_name": "HTMLView",
            "description": "",
            "description_tooltip": null,
            "layout": "IPY_MODEL_b6a42c9ccc414f6995451e072bc38203",
            "placeholder": "​",
            "style": "IPY_MODEL_7b8a8c136f9b414ebc02fa2ceed1c5d3",
            "value": " 70405/70405 [00:03&lt;00:00, 19895.08it/s]"
          }
        },
        "f88dff446c2c43ed9207bf50adfa17f4": {
          "model_module": "@jupyter-widgets/base",
          "model_name": "LayoutModel",
          "model_module_version": "1.2.0",
          "state": {
            "_model_module": "@jupyter-widgets/base",
            "_model_module_version": "1.2.0",
            "_model_name": "LayoutModel",
            "_view_count": null,
            "_view_module": "@jupyter-widgets/base",
            "_view_module_version": "1.2.0",
            "_view_name": "LayoutView",
            "align_content": null,
            "align_items": null,
            "align_self": null,
            "border": null,
            "bottom": null,
            "display": null,
            "flex": null,
            "flex_flow": null,
            "grid_area": null,
            "grid_auto_columns": null,
            "grid_auto_flow": null,
            "grid_auto_rows": null,
            "grid_column": null,
            "grid_gap": null,
            "grid_row": null,
            "grid_template_areas": null,
            "grid_template_columns": null,
            "grid_template_rows": null,
            "height": null,
            "justify_content": null,
            "justify_items": null,
            "left": null,
            "margin": null,
            "max_height": null,
            "max_width": null,
            "min_height": null,
            "min_width": null,
            "object_fit": null,
            "object_position": null,
            "order": null,
            "overflow": null,
            "overflow_x": null,
            "overflow_y": null,
            "padding": null,
            "right": null,
            "top": null,
            "visibility": null,
            "width": null
          }
        },
        "d09e44ad053a44e0bf398966b4a687df": {
          "model_module": "@jupyter-widgets/base",
          "model_name": "LayoutModel",
          "model_module_version": "1.2.0",
          "state": {
            "_model_module": "@jupyter-widgets/base",
            "_model_module_version": "1.2.0",
            "_model_name": "LayoutModel",
            "_view_count": null,
            "_view_module": "@jupyter-widgets/base",
            "_view_module_version": "1.2.0",
            "_view_name": "LayoutView",
            "align_content": null,
            "align_items": null,
            "align_self": null,
            "border": null,
            "bottom": null,
            "display": null,
            "flex": null,
            "flex_flow": null,
            "grid_area": null,
            "grid_auto_columns": null,
            "grid_auto_flow": null,
            "grid_auto_rows": null,
            "grid_column": null,
            "grid_gap": null,
            "grid_row": null,
            "grid_template_areas": null,
            "grid_template_columns": null,
            "grid_template_rows": null,
            "height": null,
            "justify_content": null,
            "justify_items": null,
            "left": null,
            "margin": null,
            "max_height": null,
            "max_width": null,
            "min_height": null,
            "min_width": null,
            "object_fit": null,
            "object_position": null,
            "order": null,
            "overflow": null,
            "overflow_x": null,
            "overflow_y": null,
            "padding": null,
            "right": null,
            "top": null,
            "visibility": null,
            "width": null
          }
        },
        "85b033ed15364fcaac404e6c7df7f989": {
          "model_module": "@jupyter-widgets/controls",
          "model_name": "DescriptionStyleModel",
          "model_module_version": "1.5.0",
          "state": {
            "_model_module": "@jupyter-widgets/controls",
            "_model_module_version": "1.5.0",
            "_model_name": "DescriptionStyleModel",
            "_view_count": null,
            "_view_module": "@jupyter-widgets/base",
            "_view_module_version": "1.2.0",
            "_view_name": "StyleView",
            "description_width": ""
          }
        },
        "7b48ad884ac546bd83baa5a3de62d075": {
          "model_module": "@jupyter-widgets/base",
          "model_name": "LayoutModel",
          "model_module_version": "1.2.0",
          "state": {
            "_model_module": "@jupyter-widgets/base",
            "_model_module_version": "1.2.0",
            "_model_name": "LayoutModel",
            "_view_count": null,
            "_view_module": "@jupyter-widgets/base",
            "_view_module_version": "1.2.0",
            "_view_name": "LayoutView",
            "align_content": null,
            "align_items": null,
            "align_self": null,
            "border": null,
            "bottom": null,
            "display": null,
            "flex": null,
            "flex_flow": null,
            "grid_area": null,
            "grid_auto_columns": null,
            "grid_auto_flow": null,
            "grid_auto_rows": null,
            "grid_column": null,
            "grid_gap": null,
            "grid_row": null,
            "grid_template_areas": null,
            "grid_template_columns": null,
            "grid_template_rows": null,
            "height": null,
            "justify_content": null,
            "justify_items": null,
            "left": null,
            "margin": null,
            "max_height": null,
            "max_width": null,
            "min_height": null,
            "min_width": null,
            "object_fit": null,
            "object_position": null,
            "order": null,
            "overflow": null,
            "overflow_x": null,
            "overflow_y": null,
            "padding": null,
            "right": null,
            "top": null,
            "visibility": null,
            "width": null
          }
        },
        "6640958e183240f0bb61ecccfdde5d68": {
          "model_module": "@jupyter-widgets/controls",
          "model_name": "ProgressStyleModel",
          "model_module_version": "1.5.0",
          "state": {
            "_model_module": "@jupyter-widgets/controls",
            "_model_module_version": "1.5.0",
            "_model_name": "ProgressStyleModel",
            "_view_count": null,
            "_view_module": "@jupyter-widgets/base",
            "_view_module_version": "1.2.0",
            "_view_name": "StyleView",
            "bar_color": null,
            "description_width": ""
          }
        },
        "b6a42c9ccc414f6995451e072bc38203": {
          "model_module": "@jupyter-widgets/base",
          "model_name": "LayoutModel",
          "model_module_version": "1.2.0",
          "state": {
            "_model_module": "@jupyter-widgets/base",
            "_model_module_version": "1.2.0",
            "_model_name": "LayoutModel",
            "_view_count": null,
            "_view_module": "@jupyter-widgets/base",
            "_view_module_version": "1.2.0",
            "_view_name": "LayoutView",
            "align_content": null,
            "align_items": null,
            "align_self": null,
            "border": null,
            "bottom": null,
            "display": null,
            "flex": null,
            "flex_flow": null,
            "grid_area": null,
            "grid_auto_columns": null,
            "grid_auto_flow": null,
            "grid_auto_rows": null,
            "grid_column": null,
            "grid_gap": null,
            "grid_row": null,
            "grid_template_areas": null,
            "grid_template_columns": null,
            "grid_template_rows": null,
            "height": null,
            "justify_content": null,
            "justify_items": null,
            "left": null,
            "margin": null,
            "max_height": null,
            "max_width": null,
            "min_height": null,
            "min_width": null,
            "object_fit": null,
            "object_position": null,
            "order": null,
            "overflow": null,
            "overflow_x": null,
            "overflow_y": null,
            "padding": null,
            "right": null,
            "top": null,
            "visibility": null,
            "width": null
          }
        },
        "7b8a8c136f9b414ebc02fa2ceed1c5d3": {
          "model_module": "@jupyter-widgets/controls",
          "model_name": "DescriptionStyleModel",
          "model_module_version": "1.5.0",
          "state": {
            "_model_module": "@jupyter-widgets/controls",
            "_model_module_version": "1.5.0",
            "_model_name": "DescriptionStyleModel",
            "_view_count": null,
            "_view_module": "@jupyter-widgets/base",
            "_view_module_version": "1.2.0",
            "_view_name": "StyleView",
            "description_width": ""
          }
        },
        "384eb133d5934f409abb724128e5e6f2": {
          "model_module": "@jupyter-widgets/controls",
          "model_name": "HBoxModel",
          "model_module_version": "1.5.0",
          "state": {
            "_dom_classes": [],
            "_model_module": "@jupyter-widgets/controls",
            "_model_module_version": "1.5.0",
            "_model_name": "HBoxModel",
            "_view_count": null,
            "_view_module": "@jupyter-widgets/controls",
            "_view_module_version": "1.5.0",
            "_view_name": "HBoxView",
            "box_style": "",
            "children": [
              "IPY_MODEL_00c3dc55856b4277ade8741dc2d0f8e8",
              "IPY_MODEL_b1cd772ee9b646d09a0ab6e59270e022",
              "IPY_MODEL_09130b933058457582355a5eb096bb2f"
            ],
            "layout": "IPY_MODEL_be2c6be74cfb453baf2c17b658b9279f"
          }
        },
        "00c3dc55856b4277ade8741dc2d0f8e8": {
          "model_module": "@jupyter-widgets/controls",
          "model_name": "HTMLModel",
          "model_module_version": "1.5.0",
          "state": {
            "_dom_classes": [],
            "_model_module": "@jupyter-widgets/controls",
            "_model_module_version": "1.5.0",
            "_model_name": "HTMLModel",
            "_view_count": null,
            "_view_module": "@jupyter-widgets/controls",
            "_view_module_version": "1.5.0",
            "_view_name": "HTMLView",
            "description": "",
            "description_tooltip": null,
            "layout": "IPY_MODEL_a52302d3e8cf412da324d2d0274d873e",
            "placeholder": "​",
            "style": "IPY_MODEL_5a1e34c1750548a1830fbdfb9b15105f",
            "value": "100%"
          }
        },
        "b1cd772ee9b646d09a0ab6e59270e022": {
          "model_module": "@jupyter-widgets/controls",
          "model_name": "FloatProgressModel",
          "model_module_version": "1.5.0",
          "state": {
            "_dom_classes": [],
            "_model_module": "@jupyter-widgets/controls",
            "_model_module_version": "1.5.0",
            "_model_name": "FloatProgressModel",
            "_view_count": null,
            "_view_module": "@jupyter-widgets/controls",
            "_view_module_version": "1.5.0",
            "_view_name": "ProgressView",
            "bar_style": "success",
            "description": "",
            "description_tooltip": null,
            "layout": "IPY_MODEL_251ec7c01cda4ec088e52a3409861454",
            "max": 70405,
            "min": 0,
            "orientation": "horizontal",
            "style": "IPY_MODEL_185a4f4c32044deda8274057cc6285f7",
            "value": 70405
          }
        },
        "09130b933058457582355a5eb096bb2f": {
          "model_module": "@jupyter-widgets/controls",
          "model_name": "HTMLModel",
          "model_module_version": "1.5.0",
          "state": {
            "_dom_classes": [],
            "_model_module": "@jupyter-widgets/controls",
            "_model_module_version": "1.5.0",
            "_model_name": "HTMLModel",
            "_view_count": null,
            "_view_module": "@jupyter-widgets/controls",
            "_view_module_version": "1.5.0",
            "_view_name": "HTMLView",
            "description": "",
            "description_tooltip": null,
            "layout": "IPY_MODEL_ec9a8beffc7a4650a037eab929c4d9c8",
            "placeholder": "​",
            "style": "IPY_MODEL_6062add76d2d4f73bfd93afed893e78d",
            "value": " 70405/70405 [06:22&lt;00:00, 171.25it/s]"
          }
        },
        "be2c6be74cfb453baf2c17b658b9279f": {
          "model_module": "@jupyter-widgets/base",
          "model_name": "LayoutModel",
          "model_module_version": "1.2.0",
          "state": {
            "_model_module": "@jupyter-widgets/base",
            "_model_module_version": "1.2.0",
            "_model_name": "LayoutModel",
            "_view_count": null,
            "_view_module": "@jupyter-widgets/base",
            "_view_module_version": "1.2.0",
            "_view_name": "LayoutView",
            "align_content": null,
            "align_items": null,
            "align_self": null,
            "border": null,
            "bottom": null,
            "display": null,
            "flex": null,
            "flex_flow": null,
            "grid_area": null,
            "grid_auto_columns": null,
            "grid_auto_flow": null,
            "grid_auto_rows": null,
            "grid_column": null,
            "grid_gap": null,
            "grid_row": null,
            "grid_template_areas": null,
            "grid_template_columns": null,
            "grid_template_rows": null,
            "height": null,
            "justify_content": null,
            "justify_items": null,
            "left": null,
            "margin": null,
            "max_height": null,
            "max_width": null,
            "min_height": null,
            "min_width": null,
            "object_fit": null,
            "object_position": null,
            "order": null,
            "overflow": null,
            "overflow_x": null,
            "overflow_y": null,
            "padding": null,
            "right": null,
            "top": null,
            "visibility": null,
            "width": null
          }
        },
        "a52302d3e8cf412da324d2d0274d873e": {
          "model_module": "@jupyter-widgets/base",
          "model_name": "LayoutModel",
          "model_module_version": "1.2.0",
          "state": {
            "_model_module": "@jupyter-widgets/base",
            "_model_module_version": "1.2.0",
            "_model_name": "LayoutModel",
            "_view_count": null,
            "_view_module": "@jupyter-widgets/base",
            "_view_module_version": "1.2.0",
            "_view_name": "LayoutView",
            "align_content": null,
            "align_items": null,
            "align_self": null,
            "border": null,
            "bottom": null,
            "display": null,
            "flex": null,
            "flex_flow": null,
            "grid_area": null,
            "grid_auto_columns": null,
            "grid_auto_flow": null,
            "grid_auto_rows": null,
            "grid_column": null,
            "grid_gap": null,
            "grid_row": null,
            "grid_template_areas": null,
            "grid_template_columns": null,
            "grid_template_rows": null,
            "height": null,
            "justify_content": null,
            "justify_items": null,
            "left": null,
            "margin": null,
            "max_height": null,
            "max_width": null,
            "min_height": null,
            "min_width": null,
            "object_fit": null,
            "object_position": null,
            "order": null,
            "overflow": null,
            "overflow_x": null,
            "overflow_y": null,
            "padding": null,
            "right": null,
            "top": null,
            "visibility": null,
            "width": null
          }
        },
        "5a1e34c1750548a1830fbdfb9b15105f": {
          "model_module": "@jupyter-widgets/controls",
          "model_name": "DescriptionStyleModel",
          "model_module_version": "1.5.0",
          "state": {
            "_model_module": "@jupyter-widgets/controls",
            "_model_module_version": "1.5.0",
            "_model_name": "DescriptionStyleModel",
            "_view_count": null,
            "_view_module": "@jupyter-widgets/base",
            "_view_module_version": "1.2.0",
            "_view_name": "StyleView",
            "description_width": ""
          }
        },
        "251ec7c01cda4ec088e52a3409861454": {
          "model_module": "@jupyter-widgets/base",
          "model_name": "LayoutModel",
          "model_module_version": "1.2.0",
          "state": {
            "_model_module": "@jupyter-widgets/base",
            "_model_module_version": "1.2.0",
            "_model_name": "LayoutModel",
            "_view_count": null,
            "_view_module": "@jupyter-widgets/base",
            "_view_module_version": "1.2.0",
            "_view_name": "LayoutView",
            "align_content": null,
            "align_items": null,
            "align_self": null,
            "border": null,
            "bottom": null,
            "display": null,
            "flex": null,
            "flex_flow": null,
            "grid_area": null,
            "grid_auto_columns": null,
            "grid_auto_flow": null,
            "grid_auto_rows": null,
            "grid_column": null,
            "grid_gap": null,
            "grid_row": null,
            "grid_template_areas": null,
            "grid_template_columns": null,
            "grid_template_rows": null,
            "height": null,
            "justify_content": null,
            "justify_items": null,
            "left": null,
            "margin": null,
            "max_height": null,
            "max_width": null,
            "min_height": null,
            "min_width": null,
            "object_fit": null,
            "object_position": null,
            "order": null,
            "overflow": null,
            "overflow_x": null,
            "overflow_y": null,
            "padding": null,
            "right": null,
            "top": null,
            "visibility": null,
            "width": null
          }
        },
        "185a4f4c32044deda8274057cc6285f7": {
          "model_module": "@jupyter-widgets/controls",
          "model_name": "ProgressStyleModel",
          "model_module_version": "1.5.0",
          "state": {
            "_model_module": "@jupyter-widgets/controls",
            "_model_module_version": "1.5.0",
            "_model_name": "ProgressStyleModel",
            "_view_count": null,
            "_view_module": "@jupyter-widgets/base",
            "_view_module_version": "1.2.0",
            "_view_name": "StyleView",
            "bar_color": null,
            "description_width": ""
          }
        },
        "ec9a8beffc7a4650a037eab929c4d9c8": {
          "model_module": "@jupyter-widgets/base",
          "model_name": "LayoutModel",
          "model_module_version": "1.2.0",
          "state": {
            "_model_module": "@jupyter-widgets/base",
            "_model_module_version": "1.2.0",
            "_model_name": "LayoutModel",
            "_view_count": null,
            "_view_module": "@jupyter-widgets/base",
            "_view_module_version": "1.2.0",
            "_view_name": "LayoutView",
            "align_content": null,
            "align_items": null,
            "align_self": null,
            "border": null,
            "bottom": null,
            "display": null,
            "flex": null,
            "flex_flow": null,
            "grid_area": null,
            "grid_auto_columns": null,
            "grid_auto_flow": null,
            "grid_auto_rows": null,
            "grid_column": null,
            "grid_gap": null,
            "grid_row": null,
            "grid_template_areas": null,
            "grid_template_columns": null,
            "grid_template_rows": null,
            "height": null,
            "justify_content": null,
            "justify_items": null,
            "left": null,
            "margin": null,
            "max_height": null,
            "max_width": null,
            "min_height": null,
            "min_width": null,
            "object_fit": null,
            "object_position": null,
            "order": null,
            "overflow": null,
            "overflow_x": null,
            "overflow_y": null,
            "padding": null,
            "right": null,
            "top": null,
            "visibility": null,
            "width": null
          }
        },
        "6062add76d2d4f73bfd93afed893e78d": {
          "model_module": "@jupyter-widgets/controls",
          "model_name": "DescriptionStyleModel",
          "model_module_version": "1.5.0",
          "state": {
            "_model_module": "@jupyter-widgets/controls",
            "_model_module_version": "1.5.0",
            "_model_name": "DescriptionStyleModel",
            "_view_count": null,
            "_view_module": "@jupyter-widgets/base",
            "_view_module_version": "1.2.0",
            "_view_name": "StyleView",
            "description_width": ""
          }
        },
        "012ce8a789d8450a9eae41597ecf980b": {
          "model_module": "@jupyter-widgets/controls",
          "model_name": "HBoxModel",
          "model_module_version": "1.5.0",
          "state": {
            "_dom_classes": [],
            "_model_module": "@jupyter-widgets/controls",
            "_model_module_version": "1.5.0",
            "_model_name": "HBoxModel",
            "_view_count": null,
            "_view_module": "@jupyter-widgets/controls",
            "_view_module_version": "1.5.0",
            "_view_name": "HBoxView",
            "box_style": "",
            "children": [
              "IPY_MODEL_c3eb4d83f361469b85df727d651e8827",
              "IPY_MODEL_8ad5c33eaa5d40309f1e719099286106",
              "IPY_MODEL_331aea332c634f93a4bb728ab9bb883a"
            ],
            "layout": "IPY_MODEL_18d8c21dbc0f4c5a8aed86028ad19274"
          }
        },
        "c3eb4d83f361469b85df727d651e8827": {
          "model_module": "@jupyter-widgets/controls",
          "model_name": "HTMLModel",
          "model_module_version": "1.5.0",
          "state": {
            "_dom_classes": [],
            "_model_module": "@jupyter-widgets/controls",
            "_model_module_version": "1.5.0",
            "_model_name": "HTMLModel",
            "_view_count": null,
            "_view_module": "@jupyter-widgets/controls",
            "_view_module_version": "1.5.0",
            "_view_name": "HTMLView",
            "description": "",
            "description_tooltip": null,
            "layout": "IPY_MODEL_f9599b1734314180a25c38c4e5424cb5",
            "placeholder": "​",
            "style": "IPY_MODEL_51def890aacf441bb3c7f7e947ca738c",
            "value": "100%"
          }
        },
        "8ad5c33eaa5d40309f1e719099286106": {
          "model_module": "@jupyter-widgets/controls",
          "model_name": "FloatProgressModel",
          "model_module_version": "1.5.0",
          "state": {
            "_dom_classes": [],
            "_model_module": "@jupyter-widgets/controls",
            "_model_module_version": "1.5.0",
            "_model_name": "FloatProgressModel",
            "_view_count": null,
            "_view_module": "@jupyter-widgets/controls",
            "_view_module_version": "1.5.0",
            "_view_name": "ProgressView",
            "bar_style": "success",
            "description": "",
            "description_tooltip": null,
            "layout": "IPY_MODEL_33c8866242564afe85d0a1c3db095740",
            "max": 4245,
            "min": 0,
            "orientation": "horizontal",
            "style": "IPY_MODEL_ca9de8381ad44e0592e90214746cf9fe",
            "value": 4245
          }
        },
        "331aea332c634f93a4bb728ab9bb883a": {
          "model_module": "@jupyter-widgets/controls",
          "model_name": "HTMLModel",
          "model_module_version": "1.5.0",
          "state": {
            "_dom_classes": [],
            "_model_module": "@jupyter-widgets/controls",
            "_model_module_version": "1.5.0",
            "_model_name": "HTMLModel",
            "_view_count": null,
            "_view_module": "@jupyter-widgets/controls",
            "_view_module_version": "1.5.0",
            "_view_name": "HTMLView",
            "description": "",
            "description_tooltip": null,
            "layout": "IPY_MODEL_6f718adcd1a646508611e4fe338e62d0",
            "placeholder": "​",
            "style": "IPY_MODEL_1d212b74da5e46b0b79da618ccd5eba8",
            "value": " 4245/4245 [00:00&lt;00:00, 61589.83it/s]"
          }
        },
        "18d8c21dbc0f4c5a8aed86028ad19274": {
          "model_module": "@jupyter-widgets/base",
          "model_name": "LayoutModel",
          "model_module_version": "1.2.0",
          "state": {
            "_model_module": "@jupyter-widgets/base",
            "_model_module_version": "1.2.0",
            "_model_name": "LayoutModel",
            "_view_count": null,
            "_view_module": "@jupyter-widgets/base",
            "_view_module_version": "1.2.0",
            "_view_name": "LayoutView",
            "align_content": null,
            "align_items": null,
            "align_self": null,
            "border": null,
            "bottom": null,
            "display": null,
            "flex": null,
            "flex_flow": null,
            "grid_area": null,
            "grid_auto_columns": null,
            "grid_auto_flow": null,
            "grid_auto_rows": null,
            "grid_column": null,
            "grid_gap": null,
            "grid_row": null,
            "grid_template_areas": null,
            "grid_template_columns": null,
            "grid_template_rows": null,
            "height": null,
            "justify_content": null,
            "justify_items": null,
            "left": null,
            "margin": null,
            "max_height": null,
            "max_width": null,
            "min_height": null,
            "min_width": null,
            "object_fit": null,
            "object_position": null,
            "order": null,
            "overflow": null,
            "overflow_x": null,
            "overflow_y": null,
            "padding": null,
            "right": null,
            "top": null,
            "visibility": null,
            "width": null
          }
        },
        "f9599b1734314180a25c38c4e5424cb5": {
          "model_module": "@jupyter-widgets/base",
          "model_name": "LayoutModel",
          "model_module_version": "1.2.0",
          "state": {
            "_model_module": "@jupyter-widgets/base",
            "_model_module_version": "1.2.0",
            "_model_name": "LayoutModel",
            "_view_count": null,
            "_view_module": "@jupyter-widgets/base",
            "_view_module_version": "1.2.0",
            "_view_name": "LayoutView",
            "align_content": null,
            "align_items": null,
            "align_self": null,
            "border": null,
            "bottom": null,
            "display": null,
            "flex": null,
            "flex_flow": null,
            "grid_area": null,
            "grid_auto_columns": null,
            "grid_auto_flow": null,
            "grid_auto_rows": null,
            "grid_column": null,
            "grid_gap": null,
            "grid_row": null,
            "grid_template_areas": null,
            "grid_template_columns": null,
            "grid_template_rows": null,
            "height": null,
            "justify_content": null,
            "justify_items": null,
            "left": null,
            "margin": null,
            "max_height": null,
            "max_width": null,
            "min_height": null,
            "min_width": null,
            "object_fit": null,
            "object_position": null,
            "order": null,
            "overflow": null,
            "overflow_x": null,
            "overflow_y": null,
            "padding": null,
            "right": null,
            "top": null,
            "visibility": null,
            "width": null
          }
        },
        "51def890aacf441bb3c7f7e947ca738c": {
          "model_module": "@jupyter-widgets/controls",
          "model_name": "DescriptionStyleModel",
          "model_module_version": "1.5.0",
          "state": {
            "_model_module": "@jupyter-widgets/controls",
            "_model_module_version": "1.5.0",
            "_model_name": "DescriptionStyleModel",
            "_view_count": null,
            "_view_module": "@jupyter-widgets/base",
            "_view_module_version": "1.2.0",
            "_view_name": "StyleView",
            "description_width": ""
          }
        },
        "33c8866242564afe85d0a1c3db095740": {
          "model_module": "@jupyter-widgets/base",
          "model_name": "LayoutModel",
          "model_module_version": "1.2.0",
          "state": {
            "_model_module": "@jupyter-widgets/base",
            "_model_module_version": "1.2.0",
            "_model_name": "LayoutModel",
            "_view_count": null,
            "_view_module": "@jupyter-widgets/base",
            "_view_module_version": "1.2.0",
            "_view_name": "LayoutView",
            "align_content": null,
            "align_items": null,
            "align_self": null,
            "border": null,
            "bottom": null,
            "display": null,
            "flex": null,
            "flex_flow": null,
            "grid_area": null,
            "grid_auto_columns": null,
            "grid_auto_flow": null,
            "grid_auto_rows": null,
            "grid_column": null,
            "grid_gap": null,
            "grid_row": null,
            "grid_template_areas": null,
            "grid_template_columns": null,
            "grid_template_rows": null,
            "height": null,
            "justify_content": null,
            "justify_items": null,
            "left": null,
            "margin": null,
            "max_height": null,
            "max_width": null,
            "min_height": null,
            "min_width": null,
            "object_fit": null,
            "object_position": null,
            "order": null,
            "overflow": null,
            "overflow_x": null,
            "overflow_y": null,
            "padding": null,
            "right": null,
            "top": null,
            "visibility": null,
            "width": null
          }
        },
        "ca9de8381ad44e0592e90214746cf9fe": {
          "model_module": "@jupyter-widgets/controls",
          "model_name": "ProgressStyleModel",
          "model_module_version": "1.5.0",
          "state": {
            "_model_module": "@jupyter-widgets/controls",
            "_model_module_version": "1.5.0",
            "_model_name": "ProgressStyleModel",
            "_view_count": null,
            "_view_module": "@jupyter-widgets/base",
            "_view_module_version": "1.2.0",
            "_view_name": "StyleView",
            "bar_color": null,
            "description_width": ""
          }
        },
        "6f718adcd1a646508611e4fe338e62d0": {
          "model_module": "@jupyter-widgets/base",
          "model_name": "LayoutModel",
          "model_module_version": "1.2.0",
          "state": {
            "_model_module": "@jupyter-widgets/base",
            "_model_module_version": "1.2.0",
            "_model_name": "LayoutModel",
            "_view_count": null,
            "_view_module": "@jupyter-widgets/base",
            "_view_module_version": "1.2.0",
            "_view_name": "LayoutView",
            "align_content": null,
            "align_items": null,
            "align_self": null,
            "border": null,
            "bottom": null,
            "display": null,
            "flex": null,
            "flex_flow": null,
            "grid_area": null,
            "grid_auto_columns": null,
            "grid_auto_flow": null,
            "grid_auto_rows": null,
            "grid_column": null,
            "grid_gap": null,
            "grid_row": null,
            "grid_template_areas": null,
            "grid_template_columns": null,
            "grid_template_rows": null,
            "height": null,
            "justify_content": null,
            "justify_items": null,
            "left": null,
            "margin": null,
            "max_height": null,
            "max_width": null,
            "min_height": null,
            "min_width": null,
            "object_fit": null,
            "object_position": null,
            "order": null,
            "overflow": null,
            "overflow_x": null,
            "overflow_y": null,
            "padding": null,
            "right": null,
            "top": null,
            "visibility": null,
            "width": null
          }
        },
        "1d212b74da5e46b0b79da618ccd5eba8": {
          "model_module": "@jupyter-widgets/controls",
          "model_name": "DescriptionStyleModel",
          "model_module_version": "1.5.0",
          "state": {
            "_model_module": "@jupyter-widgets/controls",
            "_model_module_version": "1.5.0",
            "_model_name": "DescriptionStyleModel",
            "_view_count": null,
            "_view_module": "@jupyter-widgets/base",
            "_view_module_version": "1.2.0",
            "_view_name": "StyleView",
            "description_width": ""
          }
        },
        "d0a54b8ad8b04149b6e4c4d911a8222b": {
          "model_module": "@jupyter-widgets/controls",
          "model_name": "HBoxModel",
          "model_module_version": "1.5.0",
          "state": {
            "_dom_classes": [],
            "_model_module": "@jupyter-widgets/controls",
            "_model_module_version": "1.5.0",
            "_model_name": "HBoxModel",
            "_view_count": null,
            "_view_module": "@jupyter-widgets/controls",
            "_view_module_version": "1.5.0",
            "_view_name": "HBoxView",
            "box_style": "",
            "children": [
              "IPY_MODEL_b2f6c80f53a74c0aa3a86fdfe795817f",
              "IPY_MODEL_e3e91a6215074a1cb75148d72e4dd73d",
              "IPY_MODEL_b74456082dfd4cdfa633c6d645d96509"
            ],
            "layout": "IPY_MODEL_ff781df513784f388ccc04dd97691399"
          }
        },
        "b2f6c80f53a74c0aa3a86fdfe795817f": {
          "model_module": "@jupyter-widgets/controls",
          "model_name": "HTMLModel",
          "model_module_version": "1.5.0",
          "state": {
            "_dom_classes": [],
            "_model_module": "@jupyter-widgets/controls",
            "_model_module_version": "1.5.0",
            "_model_name": "HTMLModel",
            "_view_count": null,
            "_view_module": "@jupyter-widgets/controls",
            "_view_module_version": "1.5.0",
            "_view_name": "HTMLView",
            "description": "",
            "description_tooltip": null,
            "layout": "IPY_MODEL_749b85d58502458aa7be92080fd6314c",
            "placeholder": "​",
            "style": "IPY_MODEL_829a8d8415e44eee86aabe7d07af6a79",
            "value": "100%"
          }
        },
        "e3e91a6215074a1cb75148d72e4dd73d": {
          "model_module": "@jupyter-widgets/controls",
          "model_name": "FloatProgressModel",
          "model_module_version": "1.5.0",
          "state": {
            "_dom_classes": [],
            "_model_module": "@jupyter-widgets/controls",
            "_model_module_version": "1.5.0",
            "_model_name": "FloatProgressModel",
            "_view_count": null,
            "_view_module": "@jupyter-widgets/controls",
            "_view_module_version": "1.5.0",
            "_view_name": "ProgressView",
            "bar_style": "success",
            "description": "",
            "description_tooltip": null,
            "layout": "IPY_MODEL_4cde4637b0b843db8c418b7748753200",
            "max": 4245,
            "min": 0,
            "orientation": "horizontal",
            "style": "IPY_MODEL_3f580c59f1934aa198ec1601aeed8a80",
            "value": 4245
          }
        },
        "b74456082dfd4cdfa633c6d645d96509": {
          "model_module": "@jupyter-widgets/controls",
          "model_name": "HTMLModel",
          "model_module_version": "1.5.0",
          "state": {
            "_dom_classes": [],
            "_model_module": "@jupyter-widgets/controls",
            "_model_module_version": "1.5.0",
            "_model_name": "HTMLModel",
            "_view_count": null,
            "_view_module": "@jupyter-widgets/controls",
            "_view_module_version": "1.5.0",
            "_view_name": "HTMLView",
            "description": "",
            "description_tooltip": null,
            "layout": "IPY_MODEL_30a60cec3d144070ae0c12abd88ff16e",
            "placeholder": "​",
            "style": "IPY_MODEL_d93d4749a5ff49098f3daada9ffb96cf",
            "value": " 4245/4245 [00:00&lt;00:00, 10873.65it/s]"
          }
        },
        "ff781df513784f388ccc04dd97691399": {
          "model_module": "@jupyter-widgets/base",
          "model_name": "LayoutModel",
          "model_module_version": "1.2.0",
          "state": {
            "_model_module": "@jupyter-widgets/base",
            "_model_module_version": "1.2.0",
            "_model_name": "LayoutModel",
            "_view_count": null,
            "_view_module": "@jupyter-widgets/base",
            "_view_module_version": "1.2.0",
            "_view_name": "LayoutView",
            "align_content": null,
            "align_items": null,
            "align_self": null,
            "border": null,
            "bottom": null,
            "display": null,
            "flex": null,
            "flex_flow": null,
            "grid_area": null,
            "grid_auto_columns": null,
            "grid_auto_flow": null,
            "grid_auto_rows": null,
            "grid_column": null,
            "grid_gap": null,
            "grid_row": null,
            "grid_template_areas": null,
            "grid_template_columns": null,
            "grid_template_rows": null,
            "height": null,
            "justify_content": null,
            "justify_items": null,
            "left": null,
            "margin": null,
            "max_height": null,
            "max_width": null,
            "min_height": null,
            "min_width": null,
            "object_fit": null,
            "object_position": null,
            "order": null,
            "overflow": null,
            "overflow_x": null,
            "overflow_y": null,
            "padding": null,
            "right": null,
            "top": null,
            "visibility": null,
            "width": null
          }
        },
        "749b85d58502458aa7be92080fd6314c": {
          "model_module": "@jupyter-widgets/base",
          "model_name": "LayoutModel",
          "model_module_version": "1.2.0",
          "state": {
            "_model_module": "@jupyter-widgets/base",
            "_model_module_version": "1.2.0",
            "_model_name": "LayoutModel",
            "_view_count": null,
            "_view_module": "@jupyter-widgets/base",
            "_view_module_version": "1.2.0",
            "_view_name": "LayoutView",
            "align_content": null,
            "align_items": null,
            "align_self": null,
            "border": null,
            "bottom": null,
            "display": null,
            "flex": null,
            "flex_flow": null,
            "grid_area": null,
            "grid_auto_columns": null,
            "grid_auto_flow": null,
            "grid_auto_rows": null,
            "grid_column": null,
            "grid_gap": null,
            "grid_row": null,
            "grid_template_areas": null,
            "grid_template_columns": null,
            "grid_template_rows": null,
            "height": null,
            "justify_content": null,
            "justify_items": null,
            "left": null,
            "margin": null,
            "max_height": null,
            "max_width": null,
            "min_height": null,
            "min_width": null,
            "object_fit": null,
            "object_position": null,
            "order": null,
            "overflow": null,
            "overflow_x": null,
            "overflow_y": null,
            "padding": null,
            "right": null,
            "top": null,
            "visibility": null,
            "width": null
          }
        },
        "829a8d8415e44eee86aabe7d07af6a79": {
          "model_module": "@jupyter-widgets/controls",
          "model_name": "DescriptionStyleModel",
          "model_module_version": "1.5.0",
          "state": {
            "_model_module": "@jupyter-widgets/controls",
            "_model_module_version": "1.5.0",
            "_model_name": "DescriptionStyleModel",
            "_view_count": null,
            "_view_module": "@jupyter-widgets/base",
            "_view_module_version": "1.2.0",
            "_view_name": "StyleView",
            "description_width": ""
          }
        },
        "4cde4637b0b843db8c418b7748753200": {
          "model_module": "@jupyter-widgets/base",
          "model_name": "LayoutModel",
          "model_module_version": "1.2.0",
          "state": {
            "_model_module": "@jupyter-widgets/base",
            "_model_module_version": "1.2.0",
            "_model_name": "LayoutModel",
            "_view_count": null,
            "_view_module": "@jupyter-widgets/base",
            "_view_module_version": "1.2.0",
            "_view_name": "LayoutView",
            "align_content": null,
            "align_items": null,
            "align_self": null,
            "border": null,
            "bottom": null,
            "display": null,
            "flex": null,
            "flex_flow": null,
            "grid_area": null,
            "grid_auto_columns": null,
            "grid_auto_flow": null,
            "grid_auto_rows": null,
            "grid_column": null,
            "grid_gap": null,
            "grid_row": null,
            "grid_template_areas": null,
            "grid_template_columns": null,
            "grid_template_rows": null,
            "height": null,
            "justify_content": null,
            "justify_items": null,
            "left": null,
            "margin": null,
            "max_height": null,
            "max_width": null,
            "min_height": null,
            "min_width": null,
            "object_fit": null,
            "object_position": null,
            "order": null,
            "overflow": null,
            "overflow_x": null,
            "overflow_y": null,
            "padding": null,
            "right": null,
            "top": null,
            "visibility": null,
            "width": null
          }
        },
        "3f580c59f1934aa198ec1601aeed8a80": {
          "model_module": "@jupyter-widgets/controls",
          "model_name": "ProgressStyleModel",
          "model_module_version": "1.5.0",
          "state": {
            "_model_module": "@jupyter-widgets/controls",
            "_model_module_version": "1.5.0",
            "_model_name": "ProgressStyleModel",
            "_view_count": null,
            "_view_module": "@jupyter-widgets/base",
            "_view_module_version": "1.2.0",
            "_view_name": "StyleView",
            "bar_color": null,
            "description_width": ""
          }
        },
        "30a60cec3d144070ae0c12abd88ff16e": {
          "model_module": "@jupyter-widgets/base",
          "model_name": "LayoutModel",
          "model_module_version": "1.2.0",
          "state": {
            "_model_module": "@jupyter-widgets/base",
            "_model_module_version": "1.2.0",
            "_model_name": "LayoutModel",
            "_view_count": null,
            "_view_module": "@jupyter-widgets/base",
            "_view_module_version": "1.2.0",
            "_view_name": "LayoutView",
            "align_content": null,
            "align_items": null,
            "align_self": null,
            "border": null,
            "bottom": null,
            "display": null,
            "flex": null,
            "flex_flow": null,
            "grid_area": null,
            "grid_auto_columns": null,
            "grid_auto_flow": null,
            "grid_auto_rows": null,
            "grid_column": null,
            "grid_gap": null,
            "grid_row": null,
            "grid_template_areas": null,
            "grid_template_columns": null,
            "grid_template_rows": null,
            "height": null,
            "justify_content": null,
            "justify_items": null,
            "left": null,
            "margin": null,
            "max_height": null,
            "max_width": null,
            "min_height": null,
            "min_width": null,
            "object_fit": null,
            "object_position": null,
            "order": null,
            "overflow": null,
            "overflow_x": null,
            "overflow_y": null,
            "padding": null,
            "right": null,
            "top": null,
            "visibility": null,
            "width": null
          }
        },
        "d93d4749a5ff49098f3daada9ffb96cf": {
          "model_module": "@jupyter-widgets/controls",
          "model_name": "DescriptionStyleModel",
          "model_module_version": "1.5.0",
          "state": {
            "_model_module": "@jupyter-widgets/controls",
            "_model_module_version": "1.5.0",
            "_model_name": "DescriptionStyleModel",
            "_view_count": null,
            "_view_module": "@jupyter-widgets/base",
            "_view_module_version": "1.2.0",
            "_view_name": "StyleView",
            "description_width": ""
          }
        },
        "d4b888cd649d4f818414da043bb11fcb": {
          "model_module": "@jupyter-widgets/controls",
          "model_name": "HBoxModel",
          "model_module_version": "1.5.0",
          "state": {
            "_dom_classes": [],
            "_model_module": "@jupyter-widgets/controls",
            "_model_module_version": "1.5.0",
            "_model_name": "HBoxModel",
            "_view_count": null,
            "_view_module": "@jupyter-widgets/controls",
            "_view_module_version": "1.5.0",
            "_view_name": "HBoxView",
            "box_style": "",
            "children": [
              "IPY_MODEL_9b32ba47edd848d5900b269ede8fa919",
              "IPY_MODEL_c9c9e991df424b12b90f37df6f5002bc",
              "IPY_MODEL_0577e19a98c043b6845c5f1c686537cd"
            ],
            "layout": "IPY_MODEL_fe320076dcc94ba48b099c6d7c560603"
          }
        },
        "9b32ba47edd848d5900b269ede8fa919": {
          "model_module": "@jupyter-widgets/controls",
          "model_name": "HTMLModel",
          "model_module_version": "1.5.0",
          "state": {
            "_dom_classes": [],
            "_model_module": "@jupyter-widgets/controls",
            "_model_module_version": "1.5.0",
            "_model_name": "HTMLModel",
            "_view_count": null,
            "_view_module": "@jupyter-widgets/controls",
            "_view_module_version": "1.5.0",
            "_view_name": "HTMLView",
            "description": "",
            "description_tooltip": null,
            "layout": "IPY_MODEL_50ddeed7d2db43db90eb398473b4f421",
            "placeholder": "​",
            "style": "IPY_MODEL_d7bf6ce74dd842b6973f9b1b55ca7890",
            "value": "100%"
          }
        },
        "c9c9e991df424b12b90f37df6f5002bc": {
          "model_module": "@jupyter-widgets/controls",
          "model_name": "FloatProgressModel",
          "model_module_version": "1.5.0",
          "state": {
            "_dom_classes": [],
            "_model_module": "@jupyter-widgets/controls",
            "_model_module_version": "1.5.0",
            "_model_name": "FloatProgressModel",
            "_view_count": null,
            "_view_module": "@jupyter-widgets/controls",
            "_view_module_version": "1.5.0",
            "_view_name": "ProgressView",
            "bar_style": "success",
            "description": "",
            "description_tooltip": null,
            "layout": "IPY_MODEL_ad1252d88f1f45a3b92c0f13351c9286",
            "max": 4245,
            "min": 0,
            "orientation": "horizontal",
            "style": "IPY_MODEL_9bd9f7b53c1c4b318b5311c902e83831",
            "value": 4245
          }
        },
        "0577e19a98c043b6845c5f1c686537cd": {
          "model_module": "@jupyter-widgets/controls",
          "model_name": "HTMLModel",
          "model_module_version": "1.5.0",
          "state": {
            "_dom_classes": [],
            "_model_module": "@jupyter-widgets/controls",
            "_model_module_version": "1.5.0",
            "_model_name": "HTMLModel",
            "_view_count": null,
            "_view_module": "@jupyter-widgets/controls",
            "_view_module_version": "1.5.0",
            "_view_name": "HTMLView",
            "description": "",
            "description_tooltip": null,
            "layout": "IPY_MODEL_b66302b2e3544516b8605d63cf92f95f",
            "placeholder": "​",
            "style": "IPY_MODEL_f7c20359ab5d411e8a4593f021811c64",
            "value": " 4245/4245 [00:41&lt;00:00, 147.48it/s]"
          }
        },
        "fe320076dcc94ba48b099c6d7c560603": {
          "model_module": "@jupyter-widgets/base",
          "model_name": "LayoutModel",
          "model_module_version": "1.2.0",
          "state": {
            "_model_module": "@jupyter-widgets/base",
            "_model_module_version": "1.2.0",
            "_model_name": "LayoutModel",
            "_view_count": null,
            "_view_module": "@jupyter-widgets/base",
            "_view_module_version": "1.2.0",
            "_view_name": "LayoutView",
            "align_content": null,
            "align_items": null,
            "align_self": null,
            "border": null,
            "bottom": null,
            "display": null,
            "flex": null,
            "flex_flow": null,
            "grid_area": null,
            "grid_auto_columns": null,
            "grid_auto_flow": null,
            "grid_auto_rows": null,
            "grid_column": null,
            "grid_gap": null,
            "grid_row": null,
            "grid_template_areas": null,
            "grid_template_columns": null,
            "grid_template_rows": null,
            "height": null,
            "justify_content": null,
            "justify_items": null,
            "left": null,
            "margin": null,
            "max_height": null,
            "max_width": null,
            "min_height": null,
            "min_width": null,
            "object_fit": null,
            "object_position": null,
            "order": null,
            "overflow": null,
            "overflow_x": null,
            "overflow_y": null,
            "padding": null,
            "right": null,
            "top": null,
            "visibility": null,
            "width": null
          }
        },
        "50ddeed7d2db43db90eb398473b4f421": {
          "model_module": "@jupyter-widgets/base",
          "model_name": "LayoutModel",
          "model_module_version": "1.2.0",
          "state": {
            "_model_module": "@jupyter-widgets/base",
            "_model_module_version": "1.2.0",
            "_model_name": "LayoutModel",
            "_view_count": null,
            "_view_module": "@jupyter-widgets/base",
            "_view_module_version": "1.2.0",
            "_view_name": "LayoutView",
            "align_content": null,
            "align_items": null,
            "align_self": null,
            "border": null,
            "bottom": null,
            "display": null,
            "flex": null,
            "flex_flow": null,
            "grid_area": null,
            "grid_auto_columns": null,
            "grid_auto_flow": null,
            "grid_auto_rows": null,
            "grid_column": null,
            "grid_gap": null,
            "grid_row": null,
            "grid_template_areas": null,
            "grid_template_columns": null,
            "grid_template_rows": null,
            "height": null,
            "justify_content": null,
            "justify_items": null,
            "left": null,
            "margin": null,
            "max_height": null,
            "max_width": null,
            "min_height": null,
            "min_width": null,
            "object_fit": null,
            "object_position": null,
            "order": null,
            "overflow": null,
            "overflow_x": null,
            "overflow_y": null,
            "padding": null,
            "right": null,
            "top": null,
            "visibility": null,
            "width": null
          }
        },
        "d7bf6ce74dd842b6973f9b1b55ca7890": {
          "model_module": "@jupyter-widgets/controls",
          "model_name": "DescriptionStyleModel",
          "model_module_version": "1.5.0",
          "state": {
            "_model_module": "@jupyter-widgets/controls",
            "_model_module_version": "1.5.0",
            "_model_name": "DescriptionStyleModel",
            "_view_count": null,
            "_view_module": "@jupyter-widgets/base",
            "_view_module_version": "1.2.0",
            "_view_name": "StyleView",
            "description_width": ""
          }
        },
        "ad1252d88f1f45a3b92c0f13351c9286": {
          "model_module": "@jupyter-widgets/base",
          "model_name": "LayoutModel",
          "model_module_version": "1.2.0",
          "state": {
            "_model_module": "@jupyter-widgets/base",
            "_model_module_version": "1.2.0",
            "_model_name": "LayoutModel",
            "_view_count": null,
            "_view_module": "@jupyter-widgets/base",
            "_view_module_version": "1.2.0",
            "_view_name": "LayoutView",
            "align_content": null,
            "align_items": null,
            "align_self": null,
            "border": null,
            "bottom": null,
            "display": null,
            "flex": null,
            "flex_flow": null,
            "grid_area": null,
            "grid_auto_columns": null,
            "grid_auto_flow": null,
            "grid_auto_rows": null,
            "grid_column": null,
            "grid_gap": null,
            "grid_row": null,
            "grid_template_areas": null,
            "grid_template_columns": null,
            "grid_template_rows": null,
            "height": null,
            "justify_content": null,
            "justify_items": null,
            "left": null,
            "margin": null,
            "max_height": null,
            "max_width": null,
            "min_height": null,
            "min_width": null,
            "object_fit": null,
            "object_position": null,
            "order": null,
            "overflow": null,
            "overflow_x": null,
            "overflow_y": null,
            "padding": null,
            "right": null,
            "top": null,
            "visibility": null,
            "width": null
          }
        },
        "9bd9f7b53c1c4b318b5311c902e83831": {
          "model_module": "@jupyter-widgets/controls",
          "model_name": "ProgressStyleModel",
          "model_module_version": "1.5.0",
          "state": {
            "_model_module": "@jupyter-widgets/controls",
            "_model_module_version": "1.5.0",
            "_model_name": "ProgressStyleModel",
            "_view_count": null,
            "_view_module": "@jupyter-widgets/base",
            "_view_module_version": "1.2.0",
            "_view_name": "StyleView",
            "bar_color": null,
            "description_width": ""
          }
        },
        "b66302b2e3544516b8605d63cf92f95f": {
          "model_module": "@jupyter-widgets/base",
          "model_name": "LayoutModel",
          "model_module_version": "1.2.0",
          "state": {
            "_model_module": "@jupyter-widgets/base",
            "_model_module_version": "1.2.0",
            "_model_name": "LayoutModel",
            "_view_count": null,
            "_view_module": "@jupyter-widgets/base",
            "_view_module_version": "1.2.0",
            "_view_name": "LayoutView",
            "align_content": null,
            "align_items": null,
            "align_self": null,
            "border": null,
            "bottom": null,
            "display": null,
            "flex": null,
            "flex_flow": null,
            "grid_area": null,
            "grid_auto_columns": null,
            "grid_auto_flow": null,
            "grid_auto_rows": null,
            "grid_column": null,
            "grid_gap": null,
            "grid_row": null,
            "grid_template_areas": null,
            "grid_template_columns": null,
            "grid_template_rows": null,
            "height": null,
            "justify_content": null,
            "justify_items": null,
            "left": null,
            "margin": null,
            "max_height": null,
            "max_width": null,
            "min_height": null,
            "min_width": null,
            "object_fit": null,
            "object_position": null,
            "order": null,
            "overflow": null,
            "overflow_x": null,
            "overflow_y": null,
            "padding": null,
            "right": null,
            "top": null,
            "visibility": null,
            "width": null
          }
        },
        "f7c20359ab5d411e8a4593f021811c64": {
          "model_module": "@jupyter-widgets/controls",
          "model_name": "DescriptionStyleModel",
          "model_module_version": "1.5.0",
          "state": {
            "_model_module": "@jupyter-widgets/controls",
            "_model_module_version": "1.5.0",
            "_model_name": "DescriptionStyleModel",
            "_view_count": null,
            "_view_module": "@jupyter-widgets/base",
            "_view_module_version": "1.2.0",
            "_view_name": "StyleView",
            "description_width": ""
          }
        }
      }
    }
  },
  "cells": [
    {
      "cell_type": "code",
      "execution_count": null,
      "metadata": {
        "id": "I4M_uP93ZchH"
      },
      "outputs": [],
      "source": [
        "import pandas as pd\n",
        "import numpy as np\n",
        "import os\n",
        "from sklearn.metrics import confusion_matrix, ConfusionMatrixDisplay, accuracy_score\n",
        "from sklearn.model_selection import train_test_split\n",
        "import tensorflow as tf\n",
        "from tensorflow.keras import losses\n",
        "from tensorflow.keras.callbacks import ModelCheckpoint, ReduceLROnPlateau\n",
        "from keras.models import Sequential\n",
        "from keras.layers import Dense, Flatten, Input, Conv2D, MaxPooling2D, AveragePooling2D, Dropout, BatchNormalization, Activation,MaxPooling1D, add, Embedding, Conv1D\n",
        "from tensorflow.keras.preprocessing.text import Tokenizer  \n",
        "from keras.preprocessing import sequence\n",
        "import matplotlib.pyplot as plt\n",
        "import datetime\n",
        "from tensorflow.keras.regularizers import l2\n",
        "from keras import backend as K\n",
        "from bs4 import BeautifulSoup\n",
        "import re\n",
        "import nltk\n",
        "from nltk.tokenize.toktok import ToktokTokenizer\n",
        "import seaborn as sns\n"
      ]
    },
    {
      "cell_type": "code",
      "source": [
        "from google.colab import drive\n",
        "drive.mount('/content/drive')"
      ],
      "metadata": {
        "id": "usMlayQrQHh3",
        "colab": {
          "base_uri": "https://localhost:8080/"
        },
        "outputId": "125520d3-46cc-4a11-cc47-4e1c5479589c"
      },
      "execution_count": null,
      "outputs": [
        {
          "output_type": "stream",
          "name": "stdout",
          "text": [
            "Mounted at /content/drive\n"
          ]
        }
      ]
    },
    {
      "cell_type": "code",
      "execution_count": null,
      "metadata": {
        "id": "IUd9vfiHcLur",
        "colab": {
          "base_uri": "https://localhost:8080/"
        },
        "outputId": "7f5277ad-ccab-4680-9788-62ad3461e7fc"
      },
      "outputs": [
        {
          "output_type": "stream",
          "name": "stdout",
          "text": [
            "Shape of train is: (70405, 5)\n",
            "Shape of test is: (4245, 5)\n"
          ]
        }
      ],
      "source": [
        "# Importing The Data\n",
        "\n",
        "train_df = pd.read_csv('https://github.com/odedovadia/AdvancedMLDLCourse/blob/main/Assignments/Assignment%20III/train.csv?raw=true')\n",
        "test_df = pd.read_csv('https://github.com/odedovadia/AdvancedMLDLCourse/blob/main/Assignments/Assignment%20III/test.csv?raw=true')\n",
        "\n",
        "print('Shape of train is:', train_df.shape)\n",
        "print('Shape of test is:', test_df.shape)"
      ]
    },
    {
      "cell_type": "markdown",
      "source": [
        "Taking the dialogue only for training purpose"
      ],
      "metadata": {
        "id": "wdvqUIl3k3bF"
      }
    },
    {
      "cell_type": "code",
      "source": [
        "x_train = train_df['Dialogue']\n",
        "y_train = train_df['Show']\n",
        "\n",
        "print('Shape of X_train is:', x_train.shape)\n",
        "print('Shape of Y_test is:', y_train.shape)"
      ],
      "metadata": {
        "colab": {
          "base_uri": "https://localhost:8080/"
        },
        "id": "oQPSmwoWkwVw",
        "outputId": "a0187e21-cf8f-4429-8802-ef7e352d2b59"
      },
      "execution_count": null,
      "outputs": [
        {
          "output_type": "stream",
          "name": "stdout",
          "text": [
            "Shape of X_train is: (70405,)\n",
            "Shape of Y_test is: (70405,)\n"
          ]
        }
      ]
    },
    {
      "cell_type": "code",
      "source": [
        "x_test = test_df['Dialogue']\n",
        "y_test = test_df['Show']\n",
        "\n",
        "print('Shape of X_train is:', x_test.shape)\n",
        "print('Shape of Y_test is:', y_test.shape)"
      ],
      "metadata": {
        "colab": {
          "base_uri": "https://localhost:8080/"
        },
        "id": "rI4R8E3w2Mft",
        "outputId": "71c64e01-c513-483f-f7fe-680678466920"
      },
      "execution_count": null,
      "outputs": [
        {
          "output_type": "stream",
          "name": "stdout",
          "text": [
            "Shape of X_train is: (4245,)\n",
            "Shape of Y_test is: (4245,)\n"
          ]
        }
      ]
    },
    {
      "cell_type": "markdown",
      "source": [
        "Taking a glimpse from our train and test datasets"
      ],
      "metadata": {
        "id": "VsuHJ4yq222O"
      }
    },
    {
      "cell_type": "code",
      "source": [
        "pd.DataFrame([x_train[0:10],y_train[0:10]])"
      ],
      "metadata": {
        "colab": {
          "base_uri": "https://localhost:8080/",
          "height": 191
        },
        "id": "lp1Z3I1Q4Ln7",
        "outputId": "1cd3d4e1-58e6-43c3-932d-b6fe77ff4d80"
      },
      "execution_count": null,
      "outputs": [
        {
          "output_type": "execute_result",
          "data": {
            "text/plain": [
              "                0                                                  1  \\\n",
              "Dialogue     Hey.   (to Joey) Are you gonna be embarrassed going ...   \n",
              "Show      Friends                                            Friends   \n",
              "\n",
              "                                                          2  \\\n",
              "Dialogue  Me? No no no, you. You're gonna tell him. I'm ...   \n",
              "Show                                               Seinfeld   \n",
              "\n",
              "                                                          3  \\\n",
              "Dialogue   Alright you guys are off to party number one ...   \n",
              "Show                                                Friends   \n",
              "\n",
              "                                                          4  \\\n",
              "Dialogue  Am I? Or am I so sane that you just blew your ...   \n",
              "Show                                               Seinfeld   \n",
              "\n",
              "                                                          5            6  \\\n",
              "Dialogue   So, if you’re parents hadn’t got divorced, yo...   What's up?   \n",
              "Show                                                Friends      Friends   \n",
              "\n",
              "                                                          7  \\\n",
              "Dialogue   (over-enthusiastic) I don't know, I don' I do...   \n",
              "Show                                                Friends   \n",
              "\n",
              "                                                          8  \\\n",
              "Dialogue   I know. *He* always wanted to be the first bl...   \n",
              "Show                                                Friends   \n",
              "\n",
              "                                           9  \n",
              "Dialogue  This uniform, what's it made from?  \n",
              "Show                                Seinfeld  "
            ],
            "text/html": [
              "\n",
              "  <div id=\"df-0dfb5963-852b-4cf6-910e-b7f506579114\">\n",
              "    <div class=\"colab-df-container\">\n",
              "      <div>\n",
              "<style scoped>\n",
              "    .dataframe tbody tr th:only-of-type {\n",
              "        vertical-align: middle;\n",
              "    }\n",
              "\n",
              "    .dataframe tbody tr th {\n",
              "        vertical-align: top;\n",
              "    }\n",
              "\n",
              "    .dataframe thead th {\n",
              "        text-align: right;\n",
              "    }\n",
              "</style>\n",
              "<table border=\"1\" class=\"dataframe\">\n",
              "  <thead>\n",
              "    <tr style=\"text-align: right;\">\n",
              "      <th></th>\n",
              "      <th>0</th>\n",
              "      <th>1</th>\n",
              "      <th>2</th>\n",
              "      <th>3</th>\n",
              "      <th>4</th>\n",
              "      <th>5</th>\n",
              "      <th>6</th>\n",
              "      <th>7</th>\n",
              "      <th>8</th>\n",
              "      <th>9</th>\n",
              "    </tr>\n",
              "  </thead>\n",
              "  <tbody>\n",
              "    <tr>\n",
              "      <th>Dialogue</th>\n",
              "      <td>Hey.</td>\n",
              "      <td>(to Joey) Are you gonna be embarrassed going ...</td>\n",
              "      <td>Me? No no no, you. You're gonna tell him. I'm ...</td>\n",
              "      <td>Alright you guys are off to party number one ...</td>\n",
              "      <td>Am I? Or am I so sane that you just blew your ...</td>\n",
              "      <td>So, if you’re parents hadn’t got divorced, yo...</td>\n",
              "      <td>What's up?</td>\n",
              "      <td>(over-enthusiastic) I don't know, I don' I do...</td>\n",
              "      <td>I know. *He* always wanted to be the first bl...</td>\n",
              "      <td>This uniform, what's it made from?</td>\n",
              "    </tr>\n",
              "    <tr>\n",
              "      <th>Show</th>\n",
              "      <td>Friends</td>\n",
              "      <td>Friends</td>\n",
              "      <td>Seinfeld</td>\n",
              "      <td>Friends</td>\n",
              "      <td>Seinfeld</td>\n",
              "      <td>Friends</td>\n",
              "      <td>Friends</td>\n",
              "      <td>Friends</td>\n",
              "      <td>Friends</td>\n",
              "      <td>Seinfeld</td>\n",
              "    </tr>\n",
              "  </tbody>\n",
              "</table>\n",
              "</div>\n",
              "      <button class=\"colab-df-convert\" onclick=\"convertToInteractive('df-0dfb5963-852b-4cf6-910e-b7f506579114')\"\n",
              "              title=\"Convert this dataframe to an interactive table.\"\n",
              "              style=\"display:none;\">\n",
              "        \n",
              "  <svg xmlns=\"http://www.w3.org/2000/svg\" height=\"24px\"viewBox=\"0 0 24 24\"\n",
              "       width=\"24px\">\n",
              "    <path d=\"M0 0h24v24H0V0z\" fill=\"none\"/>\n",
              "    <path d=\"M18.56 5.44l.94 2.06.94-2.06 2.06-.94-2.06-.94-.94-2.06-.94 2.06-2.06.94zm-11 1L8.5 8.5l.94-2.06 2.06-.94-2.06-.94L8.5 2.5l-.94 2.06-2.06.94zm10 10l.94 2.06.94-2.06 2.06-.94-2.06-.94-.94-2.06-.94 2.06-2.06.94z\"/><path d=\"M17.41 7.96l-1.37-1.37c-.4-.4-.92-.59-1.43-.59-.52 0-1.04.2-1.43.59L10.3 9.45l-7.72 7.72c-.78.78-.78 2.05 0 2.83L4 21.41c.39.39.9.59 1.41.59.51 0 1.02-.2 1.41-.59l7.78-7.78 2.81-2.81c.8-.78.8-2.07 0-2.86zM5.41 20L4 18.59l7.72-7.72 1.47 1.35L5.41 20z\"/>\n",
              "  </svg>\n",
              "      </button>\n",
              "      \n",
              "  <style>\n",
              "    .colab-df-container {\n",
              "      display:flex;\n",
              "      flex-wrap:wrap;\n",
              "      gap: 12px;\n",
              "    }\n",
              "\n",
              "    .colab-df-convert {\n",
              "      background-color: #E8F0FE;\n",
              "      border: none;\n",
              "      border-radius: 50%;\n",
              "      cursor: pointer;\n",
              "      display: none;\n",
              "      fill: #1967D2;\n",
              "      height: 32px;\n",
              "      padding: 0 0 0 0;\n",
              "      width: 32px;\n",
              "    }\n",
              "\n",
              "    .colab-df-convert:hover {\n",
              "      background-color: #E2EBFA;\n",
              "      box-shadow: 0px 1px 2px rgba(60, 64, 67, 0.3), 0px 1px 3px 1px rgba(60, 64, 67, 0.15);\n",
              "      fill: #174EA6;\n",
              "    }\n",
              "\n",
              "    [theme=dark] .colab-df-convert {\n",
              "      background-color: #3B4455;\n",
              "      fill: #D2E3FC;\n",
              "    }\n",
              "\n",
              "    [theme=dark] .colab-df-convert:hover {\n",
              "      background-color: #434B5C;\n",
              "      box-shadow: 0px 1px 3px 1px rgba(0, 0, 0, 0.15);\n",
              "      filter: drop-shadow(0px 1px 2px rgba(0, 0, 0, 0.3));\n",
              "      fill: #FFFFFF;\n",
              "    }\n",
              "  </style>\n",
              "\n",
              "      <script>\n",
              "        const buttonEl =\n",
              "          document.querySelector('#df-0dfb5963-852b-4cf6-910e-b7f506579114 button.colab-df-convert');\n",
              "        buttonEl.style.display =\n",
              "          google.colab.kernel.accessAllowed ? 'block' : 'none';\n",
              "\n",
              "        async function convertToInteractive(key) {\n",
              "          const element = document.querySelector('#df-0dfb5963-852b-4cf6-910e-b7f506579114');\n",
              "          const dataTable =\n",
              "            await google.colab.kernel.invokeFunction('convertToInteractive',\n",
              "                                                     [key], {});\n",
              "          if (!dataTable) return;\n",
              "\n",
              "          const docLinkHtml = 'Like what you see? Visit the ' +\n",
              "            '<a target=\"_blank\" href=https://colab.research.google.com/notebooks/data_table.ipynb>data table notebook</a>'\n",
              "            + ' to learn more about interactive tables.';\n",
              "          element.innerHTML = '';\n",
              "          dataTable['output_type'] = 'display_data';\n",
              "          await google.colab.output.renderOutput(dataTable, element);\n",
              "          const docLink = document.createElement('div');\n",
              "          docLink.innerHTML = docLinkHtml;\n",
              "          element.appendChild(docLink);\n",
              "        }\n",
              "      </script>\n",
              "    </div>\n",
              "  </div>\n",
              "  "
            ]
          },
          "metadata": {},
          "execution_count": 6
        }
      ]
    },
    {
      "cell_type": "code",
      "source": [
        "pd.DataFrame([x_test[0:10],y_test[0:10]])\n"
      ],
      "metadata": {
        "colab": {
          "base_uri": "https://localhost:8080/",
          "height": 191
        },
        "id": "NU6OHmsy37JV",
        "outputId": "81d84aad-a57e-4381-b561-46720aae2bfd"
      },
      "execution_count": null,
      "outputs": [
        {
          "output_type": "execute_result",
          "data": {
            "text/plain": [
              "                                                          0  \\\n",
              "Dialogue   Oh my God, that's great! I'm smart!! No, no, ...   \n",
              "Show                                                Friends   \n",
              "\n",
              "                                                          1  \\\n",
              "Dialogue   Listen, I’m sure that dad doesn’t care. He pr...   \n",
              "Show                                                Friends   \n",
              "\n",
              "                                                          2  \\\n",
              "Dialogue  Well I am. Couldn't you try to go through some...   \n",
              "Show                                               Seinfeld   \n",
              "\n",
              "                                                          3  \\\n",
              "Dialogue  Yes I am. We had a verbal contract. If we can'...   \n",
              "Show                                               Seinfeld   \n",
              "\n",
              "                                                          4  \\\n",
              "Dialogue   Um, I straightened out your shower curtain so...   \n",
              "Show                                                Friends   \n",
              "\n",
              "                                                          5  \\\n",
              "Dialogue   You guys, I'm telling you, when she runs, she...   \n",
              "Show                                                Friends   \n",
              "\n",
              "                                                          6  \\\n",
              "Dialogue   Really?! So what would you say Pheebs? Stuff ...   \n",
              "Show                                                Friends   \n",
              "\n",
              "                                                          7  \\\n",
              "Dialogue   Mom, there are so many people in my life. Som...   \n",
              "Show                                                Friends   \n",
              "\n",
              "                                                          8  \\\n",
              "Dialogue   All right listen ball boys! My grandmother ha...   \n",
              "Show                                                Friends   \n",
              "\n",
              "                                                          9  \n",
              "Dialogue  (to himself) A cane. I knew it. (to Neil) So, ...  \n",
              "Show                                               Seinfeld  "
            ],
            "text/html": [
              "\n",
              "  <div id=\"df-a17530d6-c1e2-4c2c-803e-4b6119479b4d\">\n",
              "    <div class=\"colab-df-container\">\n",
              "      <div>\n",
              "<style scoped>\n",
              "    .dataframe tbody tr th:only-of-type {\n",
              "        vertical-align: middle;\n",
              "    }\n",
              "\n",
              "    .dataframe tbody tr th {\n",
              "        vertical-align: top;\n",
              "    }\n",
              "\n",
              "    .dataframe thead th {\n",
              "        text-align: right;\n",
              "    }\n",
              "</style>\n",
              "<table border=\"1\" class=\"dataframe\">\n",
              "  <thead>\n",
              "    <tr style=\"text-align: right;\">\n",
              "      <th></th>\n",
              "      <th>0</th>\n",
              "      <th>1</th>\n",
              "      <th>2</th>\n",
              "      <th>3</th>\n",
              "      <th>4</th>\n",
              "      <th>5</th>\n",
              "      <th>6</th>\n",
              "      <th>7</th>\n",
              "      <th>8</th>\n",
              "      <th>9</th>\n",
              "    </tr>\n",
              "  </thead>\n",
              "  <tbody>\n",
              "    <tr>\n",
              "      <th>Dialogue</th>\n",
              "      <td>Oh my God, that's great! I'm smart!! No, no, ...</td>\n",
              "      <td>Listen, I’m sure that dad doesn’t care. He pr...</td>\n",
              "      <td>Well I am. Couldn't you try to go through some...</td>\n",
              "      <td>Yes I am. We had a verbal contract. If we can'...</td>\n",
              "      <td>Um, I straightened out your shower curtain so...</td>\n",
              "      <td>You guys, I'm telling you, when she runs, she...</td>\n",
              "      <td>Really?! So what would you say Pheebs? Stuff ...</td>\n",
              "      <td>Mom, there are so many people in my life. Som...</td>\n",
              "      <td>All right listen ball boys! My grandmother ha...</td>\n",
              "      <td>(to himself) A cane. I knew it. (to Neil) So, ...</td>\n",
              "    </tr>\n",
              "    <tr>\n",
              "      <th>Show</th>\n",
              "      <td>Friends</td>\n",
              "      <td>Friends</td>\n",
              "      <td>Seinfeld</td>\n",
              "      <td>Seinfeld</td>\n",
              "      <td>Friends</td>\n",
              "      <td>Friends</td>\n",
              "      <td>Friends</td>\n",
              "      <td>Friends</td>\n",
              "      <td>Friends</td>\n",
              "      <td>Seinfeld</td>\n",
              "    </tr>\n",
              "  </tbody>\n",
              "</table>\n",
              "</div>\n",
              "      <button class=\"colab-df-convert\" onclick=\"convertToInteractive('df-a17530d6-c1e2-4c2c-803e-4b6119479b4d')\"\n",
              "              title=\"Convert this dataframe to an interactive table.\"\n",
              "              style=\"display:none;\">\n",
              "        \n",
              "  <svg xmlns=\"http://www.w3.org/2000/svg\" height=\"24px\"viewBox=\"0 0 24 24\"\n",
              "       width=\"24px\">\n",
              "    <path d=\"M0 0h24v24H0V0z\" fill=\"none\"/>\n",
              "    <path d=\"M18.56 5.44l.94 2.06.94-2.06 2.06-.94-2.06-.94-.94-2.06-.94 2.06-2.06.94zm-11 1L8.5 8.5l.94-2.06 2.06-.94-2.06-.94L8.5 2.5l-.94 2.06-2.06.94zm10 10l.94 2.06.94-2.06 2.06-.94-2.06-.94-.94-2.06-.94 2.06-2.06.94z\"/><path d=\"M17.41 7.96l-1.37-1.37c-.4-.4-.92-.59-1.43-.59-.52 0-1.04.2-1.43.59L10.3 9.45l-7.72 7.72c-.78.78-.78 2.05 0 2.83L4 21.41c.39.39.9.59 1.41.59.51 0 1.02-.2 1.41-.59l7.78-7.78 2.81-2.81c.8-.78.8-2.07 0-2.86zM5.41 20L4 18.59l7.72-7.72 1.47 1.35L5.41 20z\"/>\n",
              "  </svg>\n",
              "      </button>\n",
              "      \n",
              "  <style>\n",
              "    .colab-df-container {\n",
              "      display:flex;\n",
              "      flex-wrap:wrap;\n",
              "      gap: 12px;\n",
              "    }\n",
              "\n",
              "    .colab-df-convert {\n",
              "      background-color: #E8F0FE;\n",
              "      border: none;\n",
              "      border-radius: 50%;\n",
              "      cursor: pointer;\n",
              "      display: none;\n",
              "      fill: #1967D2;\n",
              "      height: 32px;\n",
              "      padding: 0 0 0 0;\n",
              "      width: 32px;\n",
              "    }\n",
              "\n",
              "    .colab-df-convert:hover {\n",
              "      background-color: #E2EBFA;\n",
              "      box-shadow: 0px 1px 2px rgba(60, 64, 67, 0.3), 0px 1px 3px 1px rgba(60, 64, 67, 0.15);\n",
              "      fill: #174EA6;\n",
              "    }\n",
              "\n",
              "    [theme=dark] .colab-df-convert {\n",
              "      background-color: #3B4455;\n",
              "      fill: #D2E3FC;\n",
              "    }\n",
              "\n",
              "    [theme=dark] .colab-df-convert:hover {\n",
              "      background-color: #434B5C;\n",
              "      box-shadow: 0px 1px 3px 1px rgba(0, 0, 0, 0.15);\n",
              "      filter: drop-shadow(0px 1px 2px rgba(0, 0, 0, 0.3));\n",
              "      fill: #FFFFFF;\n",
              "    }\n",
              "  </style>\n",
              "\n",
              "      <script>\n",
              "        const buttonEl =\n",
              "          document.querySelector('#df-a17530d6-c1e2-4c2c-803e-4b6119479b4d button.colab-df-convert');\n",
              "        buttonEl.style.display =\n",
              "          google.colab.kernel.accessAllowed ? 'block' : 'none';\n",
              "\n",
              "        async function convertToInteractive(key) {\n",
              "          const element = document.querySelector('#df-a17530d6-c1e2-4c2c-803e-4b6119479b4d');\n",
              "          const dataTable =\n",
              "            await google.colab.kernel.invokeFunction('convertToInteractive',\n",
              "                                                     [key], {});\n",
              "          if (!dataTable) return;\n",
              "\n",
              "          const docLinkHtml = 'Like what you see? Visit the ' +\n",
              "            '<a target=\"_blank\" href=https://colab.research.google.com/notebooks/data_table.ipynb>data table notebook</a>'\n",
              "            + ' to learn more about interactive tables.';\n",
              "          element.innerHTML = '';\n",
              "          dataTable['output_type'] = 'display_data';\n",
              "          await google.colab.output.renderOutput(dataTable, element);\n",
              "          const docLink = document.createElement('div');\n",
              "          docLink.innerHTML = docLinkHtml;\n",
              "          element.appendChild(docLink);\n",
              "        }\n",
              "      </script>\n",
              "    </div>\n",
              "  </div>\n",
              "  "
            ]
          },
          "metadata": {},
          "execution_count": 7
        }
      ]
    },
    {
      "cell_type": "code",
      "source": [
        "print(\"Train Samples:\")\n",
        "print(y_train.value_counts()) # Check how many samples we have in the train\n",
        "\n",
        "print(\"Test Samples:\")\n",
        "print(y_test.value_counts()) # Check how many samples we have in the test"
      ],
      "metadata": {
        "colab": {
          "base_uri": "https://localhost:8080/"
        },
        "id": "rI9o0XaG2iHc",
        "outputId": "2ee1fa30-d78c-49aa-d2b5-cf2880e51baf"
      },
      "execution_count": null,
      "outputs": [
        {
          "output_type": "stream",
          "name": "stdout",
          "text": [
            "Train Samples:\n",
            "Friends     39092\n",
            "Seinfeld    31313\n",
            "Name: Show, dtype: int64\n",
            "Test Samples:\n",
            "Friends     2596\n",
            "Seinfeld    1649\n",
            "Name: Show, dtype: int64\n"
          ]
        }
      ]
    },
    {
      "cell_type": "markdown",
      "source": [
        "We can tell that \"Friends\" got more dialogues in the show hence more data available"
      ],
      "metadata": {
        "id": "WLnDwt-_7Vo1"
      }
    },
    {
      "cell_type": "code",
      "source": [
        "print(\"Percentage of 'Friends' samples in the train:\")\n",
        "print(y_train.value_counts()[0]/(y_train.value_counts()[0]+y_train.value_counts()[1]))\n",
        "print(\"Percentage of 'Friends' samples in the test:\")\n",
        "print(y_test.value_counts()[0]/(y_test.value_counts()[0]+y_test.value_counts()[1]))"
      ],
      "metadata": {
        "colab": {
          "base_uri": "https://localhost:8080/"
        },
        "id": "BFcTBx5p7oS8",
        "outputId": "3685427c-8445-430a-a748-423833810c40"
      },
      "execution_count": null,
      "outputs": [
        {
          "output_type": "stream",
          "name": "stdout",
          "text": [
            "Percentage of 'Friends' samples in the train:\n",
            "0.5552446559193239\n",
            "Percentage of 'Friends' samples in the test:\n",
            "0.6115429917550059\n"
          ]
        }
      ]
    },
    {
      "cell_type": "markdown",
      "source": [
        "The balance is not perfect but we have enough samples from both classes."
      ],
      "metadata": {
        "id": "Pths5sdUIeTl"
      }
    },
    {
      "cell_type": "markdown",
      "source": [
        "Matching our test length"
      ],
      "metadata": {
        "id": "-zgktPwGVCxJ"
      }
    },
    {
      "cell_type": "code",
      "source": [
        "grouped_data = train_df.groupby('Show')['Dialogue_length'].mean()\n",
        "show_names = grouped_data.index\n",
        "dialogue_lengths = grouped_data.values\n",
        "plt.bar(show_names, dialogue_lengths, color=['orange', 'lightblue'])\n",
        "plt.title('Train Mean Dialogue Length By Show')\n",
        "plt.show()\n",
        "\n",
        "grouped_data = test_df.groupby('Show')['Dialogue_length'].mean()\n",
        "show_names = grouped_data.index\n",
        "dialogue_lengths = grouped_data.values\n",
        "plt.bar(show_names, dialogue_lengths, color=['orange', 'lightblue'])\n",
        "plt.title('Test Mean Dialogue Length By Show')\n",
        "plt.show()"
      ],
      "metadata": {
        "colab": {
          "base_uri": "https://localhost:8080/",
          "height": 545
        },
        "id": "n6DzdvI9kj3_",
        "outputId": "5cae342f-49c9-46ae-b13f-39e152e541de"
      },
      "execution_count": null,
      "outputs": [
        {
          "output_type": "display_data",
          "data": {
            "text/plain": [
              "<Figure size 432x288 with 1 Axes>"
            ],
            "image/png": "[encoded data removed]"
          },
          "metadata": {
            "needs_background": "light"
          }
        },
        {
          "output_type": "display_data",
          "data": {
            "text/plain": [
              "<Figure size 432x288 with 1 Axes>"
            ],
            "image/png": "[encoded data removed]"
          },
          "metadata": {
            "needs_background": "light"
          }
        }
      ]
    },
    {
      "cell_type": "markdown",
      "source": [
        "The mean value between the shows seems pretty equal, but the mean length in the test set is twice bigger!"
      ],
      "metadata": {
        "id": "ENqhm65spwTY"
      }
    },
    {
      "cell_type": "code",
      "source": [
        "character_counts = train_df['Character'].value_counts()\n",
        "character_names = character_counts.index\n",
        "character_counts = character_counts.values\n",
        "character_percentages = character_counts / train_df.shape[0]\n",
        "plt.pie(character_percentages, labels=character_names)\n",
        "labels = [f'{name}: {percentage:.2f}' for name, percentage in zip(character_names, character_percentages)]\n",
        "plt.legend(labels, bbox_to_anchor=(1.1,1), loc=\"upper right\", bbox_transform=plt.gcf().transFigure)\n",
        "plt.axis('equal')\n",
        "plt.title('Train Character Percentage')\n",
        "plt.show()\n",
        "\n",
        "character_counts = test_df['Character'].value_counts()\n",
        "character_names = character_counts.index\n",
        "character_counts = character_counts.values\n",
        "character_percentages = character_counts / test_df.shape[0]\n",
        "plt.pie(character_percentages, labels=character_names)\n",
        "labels = [f'{name}: {percentage:.2f}' for name, percentage in zip(character_names, character_percentages)]\n",
        "plt.legend(labels, bbox_to_anchor=(1.1,1), loc=\"upper right\", bbox_transform=plt.gcf().transFigure)\n",
        "plt.axis('equal')\n",
        "plt.title('Test Character Percentage')\n",
        "plt.show()"
      ],
      "metadata": {
        "colab": {
          "base_uri": "https://localhost:8080/",
          "height": 543
        },
        "id": "meHK2atpml5x",
        "outputId": "d6da0b7f-6047-4d75-8366-b4c1c696992a"
      },
      "execution_count": null,
      "outputs": [
        {
          "output_type": "display_data",
          "data": {
            "text/plain": [
              "<Figure size 432x288 with 1 Axes>"
            ],
            "image/png": "[encoded data removed]"
          },
          "metadata": {}
        },
        {
          "output_type": "display_data",
          "data": {
            "text/plain": [
              "<Figure size 432x288 with 1 Axes>"
            ],
            "image/png": "[encoded data removed]"
          },
          "metadata": {}
        }
      ]
    },
    {
      "cell_type": "markdown",
      "source": [
        "The distribution between the characters seems about right and equal between the train and test data sets.\n"
      ],
      "metadata": {
        "id": "-wl3-0uepd3Q"
      }
    },
    {
      "cell_type": "markdown",
      "source": [
        "Before we start we will fixate the random state"
      ],
      "metadata": {
        "id": "FcjII504quqX"
      }
    },
    {
      "cell_type": "code",
      "source": [
        "# Set seed in order to maintain the same models and results\n",
        "tf.random.set_seed(1234)"
      ],
      "metadata": {
        "id": "S__o_Wtfqt1w"
      },
      "execution_count": null,
      "outputs": []
    },
    {
      "cell_type": "markdown",
      "source": [
        "We ain't dealing with text generation, only with classification between \"Seinfeld\" and \"Friends\". <br> Therefore, to reduce dimensionality we'll get rid of all special characters."
      ],
      "metadata": {
        "id": "Ts5LxMHRHE60"
      }
    },
    {
      "cell_type": "code",
      "source": [
        "# Define function for removing special characters\n",
        "def remove_special_characters(text):\n",
        "    pattern = r'[^a-zA-Z0-9\\s]'\n",
        "    text = re.sub(pattern,'',text)\n",
        "    return text\n",
        "\n",
        "# Define function for convert characters to lower case\n",
        "def to_lower_case(text):\n",
        "  text = text.lower()\n",
        "  return text\n",
        "\n",
        "# Remove all sentences between parentheses\n",
        "def remove_parentheses(text):\n",
        "  text = re.sub(r'\\([^)]*\\)', '', text)\n",
        "  return text\n",
        "\n",
        "# Combine those three functions to handle characters and parentheses\n",
        "def characters_handling(text):\n",
        "  text = remove_special_characters(text)\n",
        "  text = to_lower_case(text)\n",
        "  text = remove_parentheses(text)\n",
        "  return text\n",
        "\n",
        "# Apply function on train\n",
        "x_train = x_train.apply(characters_handling)\n",
        "\n"
      ],
      "metadata": {
        "id": "9aUaHChoEOf8"
      },
      "execution_count": null,
      "outputs": []
    },
    {
      "cell_type": "code",
      "source": [
        "pd.DataFrame([x_train[0:10],y_train[0:10]])"
      ],
      "metadata": {
        "colab": {
          "base_uri": "https://localhost:8080/",
          "height": 191
        },
        "id": "OcrLYQbNG8XV",
        "outputId": "26f8ba17-2743-409e-cf9e-c2608e73ff62"
      },
      "execution_count": null,
      "outputs": [
        {
          "output_type": "execute_result",
          "data": {
            "text/plain": [
              "                0                                                  1  \\\n",
              "Dialogue      hey   to joey are you gonna be embarrassed going up...   \n",
              "Show      Friends                                            Friends   \n",
              "\n",
              "                                                          2  \\\n",
              "Dialogue  me no no no you youre gonna tell him im not go...   \n",
              "Show                                               Seinfeld   \n",
              "\n",
              "                                                          3  \\\n",
              "Dialogue   alright you guys are off to party number one ...   \n",
              "Show                                                Friends   \n",
              "\n",
              "                                                          4  \\\n",
              "Dialogue  am i or am i so sane that you just blew your mind   \n",
              "Show                                               Seinfeld   \n",
              "\n",
              "                                                          5          6  \\\n",
              "Dialogue   so if youre parents hadnt got divorced youd b...   whats up   \n",
              "Show                                                Friends    Friends   \n",
              "\n",
              "                                                          7  \\\n",
              "Dialogue   overenthusiastic i dont know i don i don know...   \n",
              "Show                                                Friends   \n",
              "\n",
              "                                                          8  \\\n",
              "Dialogue   i know he always wanted to be the first black...   \n",
              "Show                                                Friends   \n",
              "\n",
              "                                        9  \n",
              "Dialogue  this uniform whats it made from  \n",
              "Show                             Seinfeld  "
            ],
            "text/html": [
              "\n",
              "  <div id=\"df-956b5b0a-9660-46a8-b900-b0105350b855\">\n",
              "    <div class=\"colab-df-container\">\n",
              "      <div>\n",
              "<style scoped>\n",
              "    .dataframe tbody tr th:only-of-type {\n",
              "        vertical-align: middle;\n",
              "    }\n",
              "\n",
              "    .dataframe tbody tr th {\n",
              "        vertical-align: top;\n",
              "    }\n",
              "\n",
              "    .dataframe thead th {\n",
              "        text-align: right;\n",
              "    }\n",
              "</style>\n",
              "<table border=\"1\" class=\"dataframe\">\n",
              "  <thead>\n",
              "    <tr style=\"text-align: right;\">\n",
              "      <th></th>\n",
              "      <th>0</th>\n",
              "      <th>1</th>\n",
              "      <th>2</th>\n",
              "      <th>3</th>\n",
              "      <th>4</th>\n",
              "      <th>5</th>\n",
              "      <th>6</th>\n",
              "      <th>7</th>\n",
              "      <th>8</th>\n",
              "      <th>9</th>\n",
              "    </tr>\n",
              "  </thead>\n",
              "  <tbody>\n",
              "    <tr>\n",
              "      <th>Dialogue</th>\n",
              "      <td>hey</td>\n",
              "      <td>to joey are you gonna be embarrassed going up...</td>\n",
              "      <td>me no no no you youre gonna tell him im not go...</td>\n",
              "      <td>alright you guys are off to party number one ...</td>\n",
              "      <td>am i or am i so sane that you just blew your mind</td>\n",
              "      <td>so if youre parents hadnt got divorced youd b...</td>\n",
              "      <td>whats up</td>\n",
              "      <td>overenthusiastic i dont know i don i don know...</td>\n",
              "      <td>i know he always wanted to be the first black...</td>\n",
              "      <td>this uniform whats it made from</td>\n",
              "    </tr>\n",
              "    <tr>\n",
              "      <th>Show</th>\n",
              "      <td>Friends</td>\n",
              "      <td>Friends</td>\n",
              "      <td>Seinfeld</td>\n",
              "      <td>Friends</td>\n",
              "      <td>Seinfeld</td>\n",
              "      <td>Friends</td>\n",
              "      <td>Friends</td>\n",
              "      <td>Friends</td>\n",
              "      <td>Friends</td>\n",
              "      <td>Seinfeld</td>\n",
              "    </tr>\n",
              "  </tbody>\n",
              "</table>\n",
              "</div>\n",
              "      <button class=\"colab-df-convert\" onclick=\"convertToInteractive('df-956b5b0a-9660-46a8-b900-b0105350b855')\"\n",
              "              title=\"Convert this dataframe to an interactive table.\"\n",
              "              style=\"display:none;\">\n",
              "        \n",
              "  <svg xmlns=\"http://www.w3.org/2000/svg\" height=\"24px\"viewBox=\"0 0 24 24\"\n",
              "       width=\"24px\">\n",
              "    <path d=\"M0 0h24v24H0V0z\" fill=\"none\"/>\n",
              "    <path d=\"M18.56 5.44l.94 2.06.94-2.06 2.06-.94-2.06-.94-.94-2.06-.94 2.06-2.06.94zm-11 1L8.5 8.5l.94-2.06 2.06-.94-2.06-.94L8.5 2.5l-.94 2.06-2.06.94zm10 10l.94 2.06.94-2.06 2.06-.94-2.06-.94-.94-2.06-.94 2.06-2.06.94z\"/><path d=\"M17.41 7.96l-1.37-1.37c-.4-.4-.92-.59-1.43-.59-.52 0-1.04.2-1.43.59L10.3 9.45l-7.72 7.72c-.78.78-.78 2.05 0 2.83L4 21.41c.39.39.9.59 1.41.59.51 0 1.02-.2 1.41-.59l7.78-7.78 2.81-2.81c.8-.78.8-2.07 0-2.86zM5.41 20L4 18.59l7.72-7.72 1.47 1.35L5.41 20z\"/>\n",
              "  </svg>\n",
              "      </button>\n",
              "      \n",
              "  <style>\n",
              "    .colab-df-container {\n",
              "      display:flex;\n",
              "      flex-wrap:wrap;\n",
              "      gap: 12px;\n",
              "    }\n",
              "\n",
              "    .colab-df-convert {\n",
              "      background-color: #E8F0FE;\n",
              "      border: none;\n",
              "      border-radius: 50%;\n",
              "      cursor: pointer;\n",
              "      display: none;\n",
              "      fill: #1967D2;\n",
              "      height: 32px;\n",
              "      padding: 0 0 0 0;\n",
              "      width: 32px;\n",
              "    }\n",
              "\n",
              "    .colab-df-convert:hover {\n",
              "      background-color: #E2EBFA;\n",
              "      box-shadow: 0px 1px 2px rgba(60, 64, 67, 0.3), 0px 1px 3px 1px rgba(60, 64, 67, 0.15);\n",
              "      fill: #174EA6;\n",
              "    }\n",
              "\n",
              "    [theme=dark] .colab-df-convert {\n",
              "      background-color: #3B4455;\n",
              "      fill: #D2E3FC;\n",
              "    }\n",
              "\n",
              "    [theme=dark] .colab-df-convert:hover {\n",
              "      background-color: #434B5C;\n",
              "      box-shadow: 0px 1px 3px 1px rgba(0, 0, 0, 0.15);\n",
              "      filter: drop-shadow(0px 1px 2px rgba(0, 0, 0, 0.3));\n",
              "      fill: #FFFFFF;\n",
              "    }\n",
              "  </style>\n",
              "\n",
              "      <script>\n",
              "        const buttonEl =\n",
              "          document.querySelector('#df-956b5b0a-9660-46a8-b900-b0105350b855 button.colab-df-convert');\n",
              "        buttonEl.style.display =\n",
              "          google.colab.kernel.accessAllowed ? 'block' : 'none';\n",
              "\n",
              "        async function convertToInteractive(key) {\n",
              "          const element = document.querySelector('#df-956b5b0a-9660-46a8-b900-b0105350b855');\n",
              "          const dataTable =\n",
              "            await google.colab.kernel.invokeFunction('convertToInteractive',\n",
              "                                                     [key], {});\n",
              "          if (!dataTable) return;\n",
              "\n",
              "          const docLinkHtml = 'Like what you see? Visit the ' +\n",
              "            '<a target=\"_blank\" href=https://colab.research.google.com/notebooks/data_table.ipynb>data table notebook</a>'\n",
              "            + ' to learn more about interactive tables.';\n",
              "          element.innerHTML = '';\n",
              "          dataTable['output_type'] = 'display_data';\n",
              "          await google.colab.output.renderOutput(dataTable, element);\n",
              "          const docLink = document.createElement('div');\n",
              "          docLink.innerHTML = docLinkHtml;\n",
              "          element.appendChild(docLink);\n",
              "        }\n",
              "      </script>\n",
              "    </div>\n",
              "  </div>\n",
              "  "
            ]
          },
          "metadata": {},
          "execution_count": 14
        }
      ]
    },
    {
      "cell_type": "markdown",
      "source": [
        "Removing Stop Words"
      ],
      "metadata": {
        "id": "77Z9Tnqrn2Wd"
      }
    },
    {
      "cell_type": "code",
      "source": [
        "nltk.download('stopwords')\n",
        "stopword_list = nltk.corpus.stopwords.words('english')\n",
        "print('Number of English stop words:', len(stopword_list))\n",
        "print(stopword_list[:10])"
      ],
      "metadata": {
        "colab": {
          "base_uri": "https://localhost:8080/"
        },
        "id": "YpJVfmLkIDSu",
        "outputId": "51faf973-663e-4ca0-bc14-8f17d6e85c64"
      },
      "execution_count": null,
      "outputs": [
        {
          "output_type": "stream",
          "name": "stdout",
          "text": [
            "Number of English stop words: 179\n",
            "['i', 'me', 'my', 'myself', 'we', 'our', 'ours', 'ourselves', 'you', \"you're\"]\n"
          ]
        },
        {
          "output_type": "stream",
          "name": "stderr",
          "text": [
            "[nltk_data] Downloading package stopwords to /root/nltk_data...\n",
            "[nltk_data]   Unzipping corpora/stopwords.zip.\n"
          ]
        }
      ]
    },
    {
      "cell_type": "markdown",
      "source": [
        "Tokenize the dialogues"
      ],
      "metadata": {
        "id": "XeQy30CDZYm5"
      }
    },
    {
      "cell_type": "code",
      "source": [
        "tokenizer = ToktokTokenizer()"
      ],
      "metadata": {
        "id": "S3YpwAoMZReE"
      },
      "execution_count": null,
      "outputs": []
    },
    {
      "cell_type": "markdown",
      "source": [
        "Examine the tokenizer"
      ],
      "metadata": {
        "id": "j4OGVZB3jWbI"
      }
    },
    {
      "cell_type": "code",
      "source": [
        "tokenizer.tokenize(x_train[1])"
      ],
      "metadata": {
        "colab": {
          "base_uri": "https://localhost:8080/"
        },
        "id": "UJFqP26UjVaK",
        "outputId": "0a8c3815-d149-40cc-b9ba-b6d499dfe59b"
      },
      "execution_count": null,
      "outputs": [
        {
          "output_type": "execute_result",
          "data": {
            "text/plain": [
              "['to',\n",
              " 'joey',\n",
              " 'are',\n",
              " 'you',\n",
              " 'gonna',\n",
              " 'be',\n",
              " 'embarrassed',\n",
              " 'going',\n",
              " 'up',\n",
              " 'there',\n",
              " 'having',\n",
              " 'nothing',\n",
              " 'prepared']"
            ]
          },
          "metadata": {},
          "execution_count": 17
        }
      ]
    },
    {
      "cell_type": "code",
      "source": [
        "# Removing the stopwords\n",
        "from tqdm.notebook import tqdm # Help us to visualize in what state the process is while using a bar\n",
        "tqdm.pandas()\n",
        "\n",
        "# Define function for removing stop words\n",
        "def remove_stopwords(text, is_lower_case=False):\n",
        "    tokens = tokenizer.tokenize(text)\n",
        "    tokens = [token.strip() for token in tokens]\n",
        "    if is_lower_case:\n",
        "        filtered_tokens = [token for token in tokens if token not in stopword_list]\n",
        "    else:\n",
        "        filtered_tokens = [token for token in tokens if token.lower() not in stopword_list]\n",
        "    filtered_text = ' '.join(filtered_tokens)    \n",
        "    return filtered_text\n",
        "\n",
        "# Apply function on x_train\n",
        "\n",
        "x_train = x_train.progress_apply(remove_stopwords)\n",
        "x_train[0:10]"
      ],
      "metadata": {
        "colab": {
          "base_uri": "https://localhost:8080/",
          "height": 240,
          "referenced_widgets": [
            "e20f82ceac61439dad822b9ea52366b0",
            "9505798cbd604592bebfb3e4ff40ed67",
            "b643d9f0c41444f39df80e6bb2c09621",
            "c2b28071da284d149de5340ad4ef60c7",
            "f88dff446c2c43ed9207bf50adfa17f4",
            "d09e44ad053a44e0bf398966b4a687df",
            "85b033ed15364fcaac404e6c7df7f989",
            "7b48ad884ac546bd83baa5a3de62d075",
            "6640958e183240f0bb61ecccfdde5d68",
            "b6a42c9ccc414f6995451e072bc38203",
            "7b8a8c136f9b414ebc02fa2ceed1c5d3"
          ]
        },
        "id": "IqQDNqu7kAE4",
        "outputId": "72198257-0b24-43c3-866c-8debb7827b58"
      },
      "execution_count": null,
      "outputs": [
        {
          "output_type": "display_data",
          "data": {
            "text/plain": [
              "  0%|          | 0/70405 [00:00<?, ?it/s]"
            ],
            "application/vnd.jupyter.widget-view+json": {
              "version_major": 2,
              "version_minor": 0,
              "model_id": "e20f82ceac61439dad822b9ea52366b0"
            }
          },
          "metadata": {}
        },
        {
          "output_type": "execute_result",
          "data": {
            "text/plain": [
              "0                                                  hey\n",
              "1        joey gonna embarrassed going nothing prepared\n",
              "2                   youre gonna tell im gonna tell noo\n",
              "3    alright guys party number one ushers 3 guys mo...\n",
              "4                                       sane blew mind\n",
              "5    youre parents hadnt got divorced youd able ans...\n",
              "6                                                whats\n",
              "7    overenthusiastic dont know know trying get you...\n",
              "8    know always wanted first black man cross atlantic\n",
              "9                                   uniform whats made\n",
              "Name: Dialogue, dtype: object"
            ]
          },
          "metadata": {},
          "execution_count": 18
        }
      ]
    },
    {
      "cell_type": "markdown",
      "source": [
        "Lemmatization using spaCy or word net lemmatization"
      ],
      "metadata": {
        "id": "lWnJQdDiA5-I"
      }
    },
    {
      "cell_type": "code",
      "source": [
        "import spacy\n",
        "!python -m spacy download en\n",
        "\n",
        "nlp = spacy.load(\"en_core_web_sm\")\n",
        "\n",
        "# Define function for lemmatize words\n",
        "def spacy_lemmatizer(text):\n",
        "  # Tokenize\n",
        "  doc = nlp(text)\n",
        "  lemmas = [token.lemma_ for token in doc]\n",
        "  lemmatized_text = ' '.join(lemmas) # Turn the words back to a sentence\n",
        "  return lemmatized_text\n",
        "\n",
        "x_train = x_train.progress_apply(spacy_lemmatizer)\n",
        "x_train[0:3]\n"
      ],
      "metadata": {
        "colab": {
          "base_uri": "https://localhost:8080/",
          "height": 902,
          "referenced_widgets": [
            "384eb133d5934f409abb724128e5e6f2",
            "00c3dc55856b4277ade8741dc2d0f8e8",
            "b1cd772ee9b646d09a0ab6e59270e022",
            "09130b933058457582355a5eb096bb2f",
            "be2c6be74cfb453baf2c17b658b9279f",
            "a52302d3e8cf412da324d2d0274d873e",
            "5a1e34c1750548a1830fbdfb9b15105f",
            "251ec7c01cda4ec088e52a3409861454",
            "185a4f4c32044deda8274057cc6285f7",
            "ec9a8beffc7a4650a037eab929c4d9c8",
            "6062add76d2d4f73bfd93afed893e78d"
          ]
        },
        "id": "ym2eHMHX--q2",
        "outputId": "d26882fe-fe91-4372-f2f4-44011bbd94fa"
      },
      "execution_count": null,
      "outputs": [
        {
          "output_type": "stream",
          "name": "stderr",
          "text": [
            "/usr/local/lib/python3.8/dist-packages/torch/cuda/__init__.py:497: UserWarning: Can't initialize NVML\n",
            "  warnings.warn(\"Can't initialize NVML\")\n"
          ]
        },
        {
          "output_type": "stream",
          "name": "stdout",
          "text": [
            "/usr/local/lib/python3.8/dist-packages/torch/cuda/__init__.py:497: UserWarning: Can't initialize NVML\n",
            "  warnings.warn(\"Can't initialize NVML\")\n",
            "2023-01-03 14:07:45.325431: E tensorflow/stream_executor/cuda/cuda_driver.cc:271] failed call to cuInit: CUDA_ERROR_NO_DEVICE: no CUDA-capable device is detected\n",
            "\u001b[38;5;3m⚠ As of spaCy v3.0, shortcuts like 'en' are deprecated. Please use the\n",
            "full pipeline package name 'en_core_web_sm' instead.\u001b[0m\n",
            "Looking in indexes: https://pypi.org/simple, https://us-python.pkg.dev/colab-wheels/public/simple/\n",
            "Collecting en-core-web-sm==3.4.1\n",
            "  Downloading https://github.com/explosion/spacy-models/releases/download/en_core_web_sm-3.4.1/en_core_web_sm-3.4.1-py3-none-any.whl (12.8 MB)\n",
            "\u001b[K     |████████████████████████████████| 12.8 MB 26.6 MB/s \n",
            "\u001b[?25hRequirement already satisfied: spacy<3.5.0,>=3.4.0 in /usr/local/lib/python3.8/dist-packages (from en-core-web-sm==3.4.1) (3.4.4)\n",
            "Requirement already satisfied: numpy>=1.15.0 in /usr/local/lib/python3.8/dist-packages (from spacy<3.5.0,>=3.4.0->en-core-web-sm==3.4.1) (1.21.6)\n",
            "Requirement already satisfied: catalogue<2.1.0,>=2.0.6 in /usr/local/lib/python3.8/dist-packages (from spacy<3.5.0,>=3.4.0->en-core-web-sm==3.4.1) (2.0.8)\n",
            "Requirement already satisfied: thinc<8.2.0,>=8.1.0 in /usr/local/lib/python3.8/dist-packages (from spacy<3.5.0,>=3.4.0->en-core-web-sm==3.4.1) (8.1.5)\n",
            "Requirement already satisfied: pydantic!=1.8,!=1.8.1,<1.11.0,>=1.7.4 in /usr/local/lib/python3.8/dist-packages (from spacy<3.5.0,>=3.4.0->en-core-web-sm==3.4.1) (1.10.2)\n",
            "Requirement already satisfied: preshed<3.1.0,>=3.0.2 in /usr/local/lib/python3.8/dist-packages (from spacy<3.5.0,>=3.4.0->en-core-web-sm==3.4.1) (3.0.8)\n",
            "Requirement already satisfied: pathy>=0.3.5 in /usr/local/lib/python3.8/dist-packages (from spacy<3.5.0,>=3.4.0->en-core-web-sm==3.4.1) (0.10.1)\n",
            "Requirement already satisfied: spacy-loggers<2.0.0,>=1.0.0 in /usr/local/lib/python3.8/dist-packages (from spacy<3.5.0,>=3.4.0->en-core-web-sm==3.4.1) (1.0.4)\n",
            "Requirement already satisfied: smart-open<7.0.0,>=5.2.1 in /usr/local/lib/python3.8/dist-packages (from spacy<3.5.0,>=3.4.0->en-core-web-sm==3.4.1) (6.3.0)\n",
            "Requirement already satisfied: cymem<2.1.0,>=2.0.2 in /usr/local/lib/python3.8/dist-packages (from spacy<3.5.0,>=3.4.0->en-core-web-sm==3.4.1) (2.0.7)\n",
            "Requirement already satisfied: srsly<3.0.0,>=2.4.3 in /usr/local/lib/python3.8/dist-packages (from spacy<3.5.0,>=3.4.0->en-core-web-sm==3.4.1) (2.4.5)\n",
            "Requirement already satisfied: packaging>=20.0 in /usr/local/lib/python3.8/dist-packages (from spacy<3.5.0,>=3.4.0->en-core-web-sm==3.4.1) (21.3)\n",
            "Requirement already satisfied: wasabi<1.1.0,>=0.9.1 in /usr/local/lib/python3.8/dist-packages (from spacy<3.5.0,>=3.4.0->en-core-web-sm==3.4.1) (0.10.1)\n",
            "Requirement already satisfied: requests<3.0.0,>=2.13.0 in /usr/local/lib/python3.8/dist-packages (from spacy<3.5.0,>=3.4.0->en-core-web-sm==3.4.1) (2.23.0)\n",
            "Requirement already satisfied: spacy-legacy<3.1.0,>=3.0.10 in /usr/local/lib/python3.8/dist-packages (from spacy<3.5.0,>=3.4.0->en-core-web-sm==3.4.1) (3.0.10)\n",
            "Requirement already satisfied: typer<0.8.0,>=0.3.0 in /usr/local/lib/python3.8/dist-packages (from spacy<3.5.0,>=3.4.0->en-core-web-sm==3.4.1) (0.7.0)\n",
            "Requirement already satisfied: jinja2 in /usr/local/lib/python3.8/dist-packages (from spacy<3.5.0,>=3.4.0->en-core-web-sm==3.4.1) (2.11.3)\n",
            "Requirement already satisfied: tqdm<5.0.0,>=4.38.0 in /usr/local/lib/python3.8/dist-packages (from spacy<3.5.0,>=3.4.0->en-core-web-sm==3.4.1) (4.64.1)\n",
            "Requirement already satisfied: murmurhash<1.1.0,>=0.28.0 in /usr/local/lib/python3.8/dist-packages (from spacy<3.5.0,>=3.4.0->en-core-web-sm==3.4.1) (1.0.9)\n",
            "Requirement already satisfied: setuptools in /usr/local/lib/python3.8/dist-packages (from spacy<3.5.0,>=3.4.0->en-core-web-sm==3.4.1) (57.4.0)\n",
            "Requirement already satisfied: langcodes<4.0.0,>=3.2.0 in /usr/local/lib/python3.8/dist-packages (from spacy<3.5.0,>=3.4.0->en-core-web-sm==3.4.1) (3.3.0)\n",
            "Requirement already satisfied: pyparsing!=3.0.5,>=2.0.2 in /usr/local/lib/python3.8/dist-packages (from packaging>=20.0->spacy<3.5.0,>=3.4.0->en-core-web-sm==3.4.1) (3.0.9)\n",
            "Requirement already satisfied: typing-extensions>=4.1.0 in /usr/local/lib/python3.8/dist-packages (from pydantic!=1.8,!=1.8.1,<1.11.0,>=1.7.4->spacy<3.5.0,>=3.4.0->en-core-web-sm==3.4.1) (4.4.0)\n",
            "Requirement already satisfied: chardet<4,>=3.0.2 in /usr/local/lib/python3.8/dist-packages (from requests<3.0.0,>=2.13.0->spacy<3.5.0,>=3.4.0->en-core-web-sm==3.4.1) (3.0.4)\n",
            "Requirement already satisfied: certifi>=2017.4.17 in /usr/local/lib/python3.8/dist-packages (from requests<3.0.0,>=2.13.0->spacy<3.5.0,>=3.4.0->en-core-web-sm==3.4.1) (2022.12.7)\n",
            "Requirement already satisfied: idna<3,>=2.5 in /usr/local/lib/python3.8/dist-packages (from requests<3.0.0,>=2.13.0->spacy<3.5.0,>=3.4.0->en-core-web-sm==3.4.1) (2.10)\n",
            "Requirement already satisfied: urllib3!=1.25.0,!=1.25.1,<1.26,>=1.21.1 in /usr/local/lib/python3.8/dist-packages (from requests<3.0.0,>=2.13.0->spacy<3.5.0,>=3.4.0->en-core-web-sm==3.4.1) (1.24.3)\n",
            "Requirement already satisfied: blis<0.8.0,>=0.7.8 in /usr/local/lib/python3.8/dist-packages (from thinc<8.2.0,>=8.1.0->spacy<3.5.0,>=3.4.0->en-core-web-sm==3.4.1) (0.7.9)\n",
            "Requirement already satisfied: confection<1.0.0,>=0.0.1 in /usr/local/lib/python3.8/dist-packages (from thinc<8.2.0,>=8.1.0->spacy<3.5.0,>=3.4.0->en-core-web-sm==3.4.1) (0.0.3)\n",
            "Requirement already satisfied: click<9.0.0,>=7.1.1 in /usr/local/lib/python3.8/dist-packages (from typer<0.8.0,>=0.3.0->spacy<3.5.0,>=3.4.0->en-core-web-sm==3.4.1) (7.1.2)\n",
            "Requirement already satisfied: MarkupSafe>=0.23 in /usr/local/lib/python3.8/dist-packages (from jinja2->spacy<3.5.0,>=3.4.0->en-core-web-sm==3.4.1) (2.0.1)\n",
            "\u001b[38;5;2m✔ Download and installation successful\u001b[0m\n",
            "You can now load the package via spacy.load('en_core_web_sm')\n"
          ]
        },
        {
          "output_type": "display_data",
          "data": {
            "text/plain": [
              "  0%|          | 0/70405 [00:00<?, ?it/s]"
            ],
            "application/vnd.jupyter.widget-view+json": {
              "version_major": 2,
              "version_minor": 0,
              "model_id": "384eb133d5934f409abb724128e5e6f2"
            }
          },
          "metadata": {}
        },
        {
          "output_type": "execute_result",
          "data": {
            "text/plain": [
              "0                                          hey\n",
              "1    joey go to embarrassed go nothing prepare\n",
              "2         you re go to tell I m go to tell noo\n",
              "Name: Dialogue, dtype: object"
            ]
          },
          "metadata": {},
          "execution_count": 19
        }
      ]
    },
    {
      "cell_type": "code",
      "source": [
        "X_train, X_val, Y_train, Y_val = train_test_split(x_train, y_train, test_size=0.1, random_state=42, stratify = y_train) # Split to train and validation sets"
      ],
      "metadata": {
        "id": "wL0ligHC-Hp4"
      },
      "execution_count": null,
      "outputs": []
    },
    {
      "cell_type": "code",
      "source": [
        "Y_train_binary = Y_train.replace({'Friends': 0, 'Seinfeld': 1})\n",
        "Y_val_binary = Y_val.replace({'Friends': 0, 'Seinfeld': 1})\n",
        "y_test_binary = y_test.replace({'Friends': 0, 'Seinfeld': 1})"
      ],
      "metadata": {
        "id": "fFT629nMri5q"
      },
      "execution_count": null,
      "outputs": []
    },
    {
      "cell_type": "markdown",
      "source": [
        "Test data pre-process"
      ],
      "metadata": {
        "id": "1s1altdF_vXt"
      }
    },
    {
      "cell_type": "code",
      "source": [
        "x_test = x_test.progress_apply(characters_handling)\n",
        "x_test = x_test.progress_apply(remove_stopwords)\n",
        "x_test = x_test.progress_apply(spacy_lemmatizer)\n"
      ],
      "metadata": {
        "id": "Jf53uIv7_uhC",
        "colab": {
          "base_uri": "https://localhost:8080/",
          "height": 113,
          "referenced_widgets": [
            "012ce8a789d8450a9eae41597ecf980b",
            "c3eb4d83f361469b85df727d651e8827",
            "8ad5c33eaa5d40309f1e719099286106",
            "331aea332c634f93a4bb728ab9bb883a",
            "18d8c21dbc0f4c5a8aed86028ad19274",
            "f9599b1734314180a25c38c4e5424cb5",
            "51def890aacf441bb3c7f7e947ca738c",
            "33c8866242564afe85d0a1c3db095740",
            "ca9de8381ad44e0592e90214746cf9fe",
            "6f718adcd1a646508611e4fe338e62d0",
            "1d212b74da5e46b0b79da618ccd5eba8",
            "d0a54b8ad8b04149b6e4c4d911a8222b",
            "b2f6c80f53a74c0aa3a86fdfe795817f",
            "e3e91a6215074a1cb75148d72e4dd73d",
            "b74456082dfd4cdfa633c6d645d96509",
            "ff781df513784f388ccc04dd97691399",
            "749b85d58502458aa7be92080fd6314c",
            "829a8d8415e44eee86aabe7d07af6a79",
            "4cde4637b0b843db8c418b7748753200",
            "3f580c59f1934aa198ec1601aeed8a80",
            "30a60cec3d144070ae0c12abd88ff16e",
            "d93d4749a5ff49098f3daada9ffb96cf",
            "d4b888cd649d4f818414da043bb11fcb",
            "9b32ba47edd848d5900b269ede8fa919",
            "c9c9e991df424b12b90f37df6f5002bc",
            "0577e19a98c043b6845c5f1c686537cd",
            "fe320076dcc94ba48b099c6d7c560603",
            "50ddeed7d2db43db90eb398473b4f421",
            "d7bf6ce74dd842b6973f9b1b55ca7890",
            "ad1252d88f1f45a3b92c0f13351c9286",
            "9bd9f7b53c1c4b318b5311c902e83831",
            "b66302b2e3544516b8605d63cf92f95f",
            "f7c20359ab5d411e8a4593f021811c64"
          ]
        },
        "outputId": "d6a4290e-8a53-48a0-a454-19e8cfbe39dc"
      },
      "execution_count": null,
      "outputs": [
        {
          "output_type": "display_data",
          "data": {
            "text/plain": [
              "  0%|          | 0/4245 [00:00<?, ?it/s]"
            ],
            "application/vnd.jupyter.widget-view+json": {
              "version_major": 2,
              "version_minor": 0,
              "model_id": "012ce8a789d8450a9eae41597ecf980b"
            }
          },
          "metadata": {}
        },
        {
          "output_type": "display_data",
          "data": {
            "text/plain": [
              "  0%|          | 0/4245 [00:00<?, ?it/s]"
            ],
            "application/vnd.jupyter.widget-view+json": {
              "version_major": 2,
              "version_minor": 0,
              "model_id": "d0a54b8ad8b04149b6e4c4d911a8222b"
            }
          },
          "metadata": {}
        },
        {
          "output_type": "display_data",
          "data": {
            "text/plain": [
              "  0%|          | 0/4245 [00:00<?, ?it/s]"
            ],
            "application/vnd.jupyter.widget-view+json": {
              "version_major": 2,
              "version_minor": 0,
              "model_id": "d4b888cd649d4f818414da043bb11fcb"
            }
          },
          "metadata": {}
        }
      ]
    },
    {
      "cell_type": "markdown",
      "source": [
        "Verify our data sets shapes"
      ],
      "metadata": {
        "id": "BfseTPxAoxlf"
      }
    },
    {
      "cell_type": "code",
      "source": [
        "print('X_train shape:', X_train.shape)\n",
        "print('Y_train shape:', Y_train.shape)\n",
        "print('X_val shape:', X_val.shape)\n",
        "print('Y_val shape:', Y_val.shape)\n",
        "print('x_test shape:', x_test.shape)\n",
        "print('y_test shape:', y_test.shape)"
      ],
      "metadata": {
        "id": "7zSaMJYnmX3l",
        "colab": {
          "base_uri": "https://localhost:8080/"
        },
        "outputId": "603c8f23-1449-4225-f8e8-24f97d7ef189"
      },
      "execution_count": null,
      "outputs": [
        {
          "output_type": "stream",
          "name": "stdout",
          "text": [
            "X_train shape: (63364,)\n",
            "Y_train shape: (63364,)\n",
            "X_val shape: (7041,)\n",
            "Y_val shape: (7041,)\n",
            "x_test shape: (4245,)\n",
            "y_test shape: (4245,)\n"
          ]
        }
      ]
    },
    {
      "cell_type": "markdown",
      "source": [
        "Now we will use keras tokenizer"
      ],
      "metadata": {
        "id": "cUQJgGuJXn9G"
      }
    },
    {
      "cell_type": "code",
      "source": [
        "token = Tokenizer(lower=False)\n",
        "token.fit_on_texts(X_train)"
      ],
      "metadata": {
        "id": "o-JHQy4zgPKR"
      },
      "execution_count": null,
      "outputs": []
    },
    {
      "cell_type": "code",
      "source": [
        "X_train[0]"
      ],
      "metadata": {
        "id": "BlttnPeibSLH",
        "colab": {
          "base_uri": "https://localhost:8080/",
          "height": 36
        },
        "outputId": "761ed4a1-6767-44d6-b97c-63dd8eec0204"
      },
      "execution_count": null,
      "outputs": [
        {
          "output_type": "execute_result",
          "data": {
            "text/plain": [
              "'hey'"
            ],
            "application/vnd.google.colaboratory.intrinsic+json": {
              "type": "string"
            }
          },
          "metadata": {},
          "execution_count": 25
        }
      ]
    },
    {
      "cell_type": "markdown",
      "source": [
        "Convert to sequences"
      ],
      "metadata": {
        "id": "eih_Px19Yg9O"
      }
    },
    {
      "cell_type": "code",
      "source": [
        "x_train_dl = token.texts_to_sequences(X_train)\n",
        "x_val_dl = token.texts_to_sequences(X_val)\n",
        "x_test_dl = token.texts_to_sequences(x_test)"
      ],
      "metadata": {
        "id": "lkBSYyHZXmOg"
      },
      "execution_count": null,
      "outputs": []
    },
    {
      "cell_type": "code",
      "source": [
        "x_train_dl[0]"
      ],
      "metadata": {
        "id": "rfYZBUVqYic1",
        "colab": {
          "base_uri": "https://localhost:8080/"
        },
        "outputId": "1886f876-444a-4496-f068-e9794ed283e3"
      },
      "execution_count": null,
      "outputs": [
        {
          "output_type": "execute_result",
          "data": {
            "text/plain": [
              "[4, 17, 11, 159, 246, 2478, 34, 9331, 420, 41, 16, 270, 2479]"
            ]
          },
          "metadata": {},
          "execution_count": 27
        }
      ]
    },
    {
      "cell_type": "markdown",
      "source": [
        "Explore dialogues length"
      ],
      "metadata": {
        "id": "a2DqT1tYY2bW"
      }
    },
    {
      "cell_type": "code",
      "source": [
        "dialogue_len_list = [len(dialogue) for dialogue in x_train_dl]"
      ],
      "metadata": {
        "id": "HVZGwZ0WYwCN"
      },
      "execution_count": null,
      "outputs": []
    },
    {
      "cell_type": "code",
      "source": [
        "print(\"max dialogue length (words) is: \", max(dialogue_len_list))\n",
        "print(\"min dialogue length (words) is: \", min(dialogue_len_list))\n",
        "print(\"mean dialogue length (words) is: \", np.mean(dialogue_len_list))\n"
      ],
      "metadata": {
        "id": "vf0X9ws5Y9su",
        "colab": {
          "base_uri": "https://localhost:8080/"
        },
        "outputId": "d297d861-637f-47c4-e153-e4f2e8357177"
      },
      "execution_count": null,
      "outputs": [
        {
          "output_type": "stream",
          "name": "stdout",
          "text": [
            "max dialogue length (words) is:  205\n",
            "min dialogue length (words) is:  0\n",
            "mean dialogue length (words) is:  6.3415504071712645\n"
          ]
        }
      ]
    },
    {
      "cell_type": "code",
      "source": [
        "ax = sns.histplot(dialogue_len_list)\n",
        "plt.show()"
      ],
      "metadata": {
        "id": "jwVN4AnAZSnw",
        "colab": {
          "base_uri": "https://localhost:8080/",
          "height": 265
        },
        "outputId": "c750dff4-93eb-47c5-f3df-8de0e61acd2c"
      },
      "execution_count": null,
      "outputs": [
        {
          "output_type": "display_data",
          "data": {
            "text/plain": [
              "<Figure size 432x288 with 1 Axes>"
            ],
            "image/png": "[encoded data removed]"
          },
          "metadata": {
            "needs_background": "light"
          }
        }
      ]
    },
    {
      "cell_type": "markdown",
      "source": [
        "Let's zoom in a little bit"
      ],
      "metadata": {
        "id": "xe29gHtRc_H4"
      }
    },
    {
      "cell_type": "code",
      "source": [
        "bx = sns.histplot(dialogue_len_list)\n",
        "bx.set_xlim(0, 50)\n",
        "plt.show()"
      ],
      "metadata": {
        "id": "hCembDZuch9g",
        "colab": {
          "base_uri": "https://localhost:8080/",
          "height": 265
        },
        "outputId": "9af03186-2da2-4936-f51d-31de5620b54a"
      },
      "execution_count": null,
      "outputs": [
        {
          "output_type": "display_data",
          "data": {
            "text/plain": [
              "<Figure size 432x288 with 1 Axes>"
            ],
            "image/png": "[encoded data removed]"
          },
          "metadata": {
            "needs_background": "light"
          }
        }
      ]
    },
    {
      "cell_type": "code",
      "source": [
        "dialogues_36_plus = sum([1 for x in dialogue_len_list if x > 35])\n",
        "print(\"Number of dialogues that are longer than 35 words: \", dialogues_36_plus)\n",
        "print(\"Percentage of dialogues that are longer than 35 words: \", dialogues_36_plus/len(x_train_dl))"
      ],
      "metadata": {
        "id": "UGFKAW1udDDW",
        "colab": {
          "base_uri": "https://localhost:8080/"
        },
        "outputId": "fe4708e2-bfce-4d46-ecc8-2d355a82fbf0"
      },
      "execution_count": null,
      "outputs": [
        {
          "output_type": "stream",
          "name": "stdout",
          "text": [
            "Number of dialogues that are longer than 35 words:  423\n",
            "Percentage of dialogues that are longer than 35 words:  0.006675714916987564\n"
          ]
        }
      ]
    },
    {
      "cell_type": "markdown",
      "source": [
        "Check if the pre-process left us with some uninformative dialogues. <br>\n",
        "If so, we might want to ignore them when we train our model."
      ],
      "metadata": {
        "id": "rZBl7kEHXkeo"
      }
    },
    {
      "cell_type": "code",
      "source": [
        "dialogues_empty = sum([1 for x in dialogue_len_list if x < 1])\n",
        "print(\"Number of empty dialogues: \", dialogues_empty)\n",
        "print(\"Percentage of empty dialogues: \", dialogues_empty/len(x_train_dl))"
      ],
      "metadata": {
        "id": "pcL6a6UEXBdK",
        "colab": {
          "base_uri": "https://localhost:8080/"
        },
        "outputId": "8a6b6d45-190f-42a8-9ea6-196450cec117"
      },
      "execution_count": null,
      "outputs": [
        {
          "output_type": "stream",
          "name": "stdout",
          "text": [
            "Number of empty dialogues:  2214\n",
            "Percentage of empty dialogues:  0.0349409759484881\n"
          ]
        }
      ]
    },
    {
      "cell_type": "code",
      "source": [
        "max_words = 36\n",
        "\n",
        "x_train_dl_cut = tf.keras.preprocessing.sequence.pad_sequences(x_train_dl, maxlen=max_words)\n",
        "x_val_dl_cut = tf.keras.preprocessing.sequence.pad_sequences(x_val_dl, maxlen=max_words)\n",
        "x_test_dl = tf.keras.preprocessing.sequence.pad_sequences(x_test_dl, maxlen=max_words)"
      ],
      "metadata": {
        "id": "f-47FWbgZoAw"
      },
      "execution_count": null,
      "outputs": []
    },
    {
      "cell_type": "markdown",
      "source": [
        "Verify changes"
      ],
      "metadata": {
        "id": "G98Kjf4ypUDF"
      }
    },
    {
      "cell_type": "code",
      "source": [
        "x_train_dl_cut.shape"
      ],
      "metadata": {
        "id": "-QUAU3oPpQ_o",
        "colab": {
          "base_uri": "https://localhost:8080/"
        },
        "outputId": "825d15fa-5e9c-40dc-a4d8-245e444680dd"
      },
      "execution_count": null,
      "outputs": [
        {
          "output_type": "execute_result",
          "data": {
            "text/plain": [
              "(63364, 36)"
            ]
          },
          "metadata": {},
          "execution_count": 35
        }
      ]
    },
    {
      "cell_type": "code",
      "source": [
        "x_val_dl_cut.shape"
      ],
      "metadata": {
        "id": "Dwdkb4siq_x9",
        "colab": {
          "base_uri": "https://localhost:8080/"
        },
        "outputId": "a6933cdc-67e3-4a60-ab49-3f4a9d9b0d90"
      },
      "execution_count": null,
      "outputs": [
        {
          "output_type": "execute_result",
          "data": {
            "text/plain": [
              "(7041, 36)"
            ]
          },
          "metadata": {},
          "execution_count": 36
        }
      ]
    },
    {
      "cell_type": "code",
      "source": [
        "x_test_dl.shape"
      ],
      "metadata": {
        "id": "1uLb3jxnGEX3",
        "colab": {
          "base_uri": "https://localhost:8080/"
        },
        "outputId": "29b83913-9737-4590-9e10-3385a27d0acd"
      },
      "execution_count": null,
      "outputs": [
        {
          "output_type": "execute_result",
          "data": {
            "text/plain": [
              "(4245, 36)"
            ]
          },
          "metadata": {},
          "execution_count": 37
        }
      ]
    },
    {
      "cell_type": "code",
      "source": [
        "dialogue_len_list_cut = [len(dialogue) for dialogue in x_train_dl_cut]\n",
        "print(\"max dialogue length (words) is: \", max(dialogue_len_list_cut))\n",
        "print(\"min dialogue length (words) is: \", min(dialogue_len_list_cut))\n",
        "print(\"mean dialogue length (words) is: \", np.mean(dialogue_len_list_cut))"
      ],
      "metadata": {
        "id": "R7uNowgSpasG",
        "colab": {
          "base_uri": "https://localhost:8080/"
        },
        "outputId": "a6b8bf56-6bd8-46be-8be7-9975165cf6d4"
      },
      "execution_count": null,
      "outputs": [
        {
          "output_type": "stream",
          "name": "stdout",
          "text": [
            "max dialogue length (words) is:  36\n",
            "min dialogue length (words) is:  36\n",
            "mean dialogue length (words) is:  36.0\n"
          ]
        }
      ]
    },
    {
      "cell_type": "markdown",
      "source": [
        "Check how our samples looks like now"
      ],
      "metadata": {
        "id": "JRzWnL_9p4sU"
      }
    },
    {
      "cell_type": "code",
      "source": [
        "x_train_dl_cut[80, :]"
      ],
      "metadata": {
        "id": "5xY33nmppkJ4",
        "colab": {
          "base_uri": "https://localhost:8080/"
        },
        "outputId": "a6fd8f14-b748-4f6e-d236-0465e7ee0b71"
      },
      "execution_count": null,
      "outputs": [
        {
          "output_type": "execute_result",
          "data": {
            "text/plain": [
              "array([ 0,  0,  0,  0,  0,  0,  0,  0,  0,  0,  0,  0,  0,  0,  0,  0,  0,\n",
              "        0,  0,  0,  0,  0,  0,  0,  0,  0,  0,  0,  0,  0,  0,  4, 24, 18,\n",
              "       15, 32], dtype=int32)"
            ]
          },
          "metadata": {},
          "execution_count": 39
        }
      ]
    },
    {
      "cell_type": "markdown",
      "source": [
        "Let's check how many words we have in our vocabulary"
      ],
      "metadata": {
        "id": "BUPXNkhFqE0S"
      }
    },
    {
      "cell_type": "code",
      "source": [
        "total_words = len(token.word_index) + 1 \n",
        "total_words"
      ],
      "metadata": {
        "id": "sRO9fFEXp1M4",
        "colab": {
          "base_uri": "https://localhost:8080/"
        },
        "outputId": "c99d9435-312e-4074-df6a-0c1dc1c8f47f"
      },
      "execution_count": null,
      "outputs": [
        {
          "output_type": "execute_result",
          "data": {
            "text/plain": [
              "18838"
            ]
          },
          "metadata": {},
          "execution_count": 40
        }
      ]
    },
    {
      "cell_type": "markdown",
      "source": [
        "Callbacks"
      ],
      "metadata": {
        "id": "LDxmv__sqSy3"
      }
    },
    {
      "cell_type": "code",
      "source": [
        "save_model = ModelCheckpoint(\n",
        "    filepath='/content/drive/My Drive/Colab Notebooks/EX3/model3',\n",
        "    save_best_only=True,\n",
        "    monitor='val_loss',\n",
        "    verbose=1,\n",
        "    mode='min'\n",
        ")\n",
        "\n",
        "\n",
        "reduce_lr = ReduceLROnPlateau(\n",
        "    monitor=\"val_loss\",\n",
        "    factor=0.6,\n",
        "    patience=5\n",
        ")\n",
        "\n",
        "early_stop = tf.keras.callbacks.EarlyStopping(\n",
        "    monitor='val_loss',\n",
        "    min_delta=10**-7,\n",
        "    patience=9,\n",
        "    verbose=1, \n",
        "    mode='min',\n",
        "    restore_best_weights=True\n",
        ")\n",
        "\n",
        "callbacks = [save_model, reduce_lr, early_stop]"
      ],
      "metadata": {
        "id": "WstDKrWfqSEQ"
      },
      "execution_count": null,
      "outputs": []
    },
    {
      "cell_type": "markdown",
      "source": [
        "MODELS"
      ],
      "metadata": {
        "id": "UzGCiUXIrHmg"
      }
    },
    {
      "cell_type": "code",
      "source": [
        "from keras.layers import GRU\n",
        "rnn_model = Sequential()\n",
        "rnn_model.add(Embedding(input_dim=total_words, output_dim= 16, input_length=max_words))\n",
        "rnn_model.add(GRU(128))\n",
        "rnn_model.add(Dropout(0.4))\n",
        "rnn_model.add(Dense(64, activation='relu'))\n",
        "rnn_model.add(Dropout(0.4))\n",
        "rnn_model.add(Dense(1, activation='sigmoid'))\n",
        "rnn_model.summary()"
      ],
      "metadata": {
        "id": "YZaZjBfZaAyp",
        "colab": {
          "base_uri": "https://localhost:8080/"
        },
        "outputId": "616cab23-960b-49a3-97c4-f2cb1fc89e16"
      },
      "execution_count": null,
      "outputs": [
        {
          "output_type": "stream",
          "name": "stdout",
          "text": [
            "Model: \"sequential\"\n",
            "_________________________________________________________________\n",
            " Layer (type)                Output Shape              Param #   \n",
            "=================================================================\n",
            " embedding (Embedding)       (None, 36, 16)            301408    \n",
            "                                                                 \n",
            " gru (GRU)                   (None, 128)               56064     \n",
            "                                                                 \n",
            " dropout (Dropout)           (None, 128)               0         \n",
            "                                                                 \n",
            " dense (Dense)               (None, 64)                8256      \n",
            "                                                                 \n",
            " dropout_1 (Dropout)         (None, 64)                0         \n",
            "                                                                 \n",
            " dense_1 (Dense)             (None, 1)                 65        \n",
            "                                                                 \n",
            "=================================================================\n",
            "Total params: 365,793\n",
            "Trainable params: 365,793\n",
            "Non-trainable params: 0\n",
            "_________________________________________________________________\n"
          ]
        }
      ]
    },
    {
      "cell_type": "code",
      "source": [
        "rnn_model.compile(loss='binary_crossentropy', optimizer='adam', metrics=['accuracy'])\n",
        "rnn_model.fit(x_train_dl_cut, Y_train_binary, validation_data=(x_val_dl_cut, Y_val_binary), epochs=15, batch_size=64, callbacks=callbacks)\n"
      ],
      "metadata": {
        "id": "FOWzU4XVaqEi",
        "colab": {
          "base_uri": "https://localhost:8080/"
        },
        "outputId": "634d61f8-9210-4bd7-db6e-657814631a1d"
      },
      "execution_count": null,
      "outputs": [
        {
          "output_type": "stream",
          "name": "stdout",
          "text": [
            "Epoch 1/15\n",
            "990/991 [============================>.] - ETA: 0s - loss: 0.5384 - accuracy: 0.6927\n",
            "Epoch 1: val_loss improved from inf to 0.48729, saving model to /content/drive/My Drive/Colab Notebooks/EX3/model3\n"
          ]
        },
        {
          "output_type": "stream",
          "name": "stderr",
          "text": [
            "WARNING:absl:Found untraced functions such as gru_cell_layer_call_fn, gru_cell_layer_call_and_return_conditional_losses while saving (showing 2 of 2). These functions will not be directly callable after loading.\n"
          ]
        },
        {
          "output_type": "stream",
          "name": "stdout",
          "text": [
            "\b\b\b\b\b\b\b\b\b\b\b\b\b\b\b\b\b\b\b\b\b\b\b\b\b\b\b\b\b\b\b\b\b\b\b\b\b\b\b\b\b\b\b\b\b\b\b\b\b\b\b\b\b\b\b\b\b\b\b\b\b\b\b\b\b\b\b\b\b\b\b\b\b\b\b\b\b\b\b\b\b\b\b\b\r991/991 [==============================] - 65s 61ms/step - loss: 0.5384 - accuracy: 0.6927 - val_loss: 0.4873 - val_accuracy: 0.7303 - lr: 0.0010\n",
            "Epoch 2/15\n",
            "991/991 [==============================] - ETA: 0s - loss: 0.4466 - accuracy: 0.7642\n",
            "Epoch 2: val_loss improved from 0.48729 to 0.47749, saving model to /content/drive/My Drive/Colab Notebooks/EX3/model3\n"
          ]
        },
        {
          "output_type": "stream",
          "name": "stderr",
          "text": [
            "WARNING:absl:Found untraced functions such as gru_cell_layer_call_fn, gru_cell_layer_call_and_return_conditional_losses while saving (showing 2 of 2). These functions will not be directly callable after loading.\n"
          ]
        },
        {
          "output_type": "stream",
          "name": "stdout",
          "text": [
            "\b\b\b\b\b\b\b\b\b\b\b\b\b\b\b\b\b\b\b\b\b\b\b\b\b\b\b\b\b\b\b\b\b\b\b\b\b\b\b\b\b\b\b\b\b\b\b\b\b\b\b\b\b\b\b\b\b\b\b\b\b\b\b\b\b\b\b\b\b\b\b\b\b\b\b\b\b\b\b\b\b\b\b\b\r991/991 [==============================] - 47s 48ms/step - loss: 0.4466 - accuracy: 0.7642 - val_loss: 0.4775 - val_accuracy: 0.7385 - lr: 0.0010\n",
            "Epoch 3/15\n",
            "991/991 [==============================] - ETA: 0s - loss: 0.4114 - accuracy: 0.7827\n",
            "Epoch 3: val_loss did not improve from 0.47749\n",
            "991/991 [==============================] - 45s 45ms/step - loss: 0.4114 - accuracy: 0.7827 - val_loss: 0.4883 - val_accuracy: 0.7392 - lr: 0.0010\n",
            "Epoch 4/15\n",
            "990/991 [============================>.] - ETA: 0s - loss: 0.3825 - accuracy: 0.7970\n",
            "Epoch 4: val_loss did not improve from 0.47749\n",
            "991/991 [==============================] - 43s 43ms/step - loss: 0.3824 - accuracy: 0.7970 - val_loss: 0.5147 - val_accuracy: 0.7346 - lr: 0.0010\n",
            "Epoch 5/15\n",
            "991/991 [==============================] - ETA: 0s - loss: 0.3631 - accuracy: 0.8063\n",
            "Epoch 5: val_loss did not improve from 0.47749\n",
            "991/991 [==============================] - 43s 43ms/step - loss: 0.3631 - accuracy: 0.8063 - val_loss: 0.5291 - val_accuracy: 0.7361 - lr: 0.0010\n",
            "Epoch 6/15\n",
            "990/991 [============================>.] - ETA: 0s - loss: 0.3456 - accuracy: 0.8133\n",
            "Epoch 6: val_loss did not improve from 0.47749\n",
            "991/991 [==============================] - 44s 45ms/step - loss: 0.3456 - accuracy: 0.8132 - val_loss: 0.5407 - val_accuracy: 0.7402 - lr: 0.0010\n",
            "Epoch 7/15\n",
            "990/991 [============================>.] - ETA: 0s - loss: 0.3320 - accuracy: 0.8170\n",
            "Epoch 7: val_loss did not improve from 0.47749\n",
            "991/991 [==============================] - 43s 43ms/step - loss: 0.3319 - accuracy: 0.8170 - val_loss: 0.5926 - val_accuracy: 0.7330 - lr: 0.0010\n",
            "Epoch 8/15\n",
            "991/991 [==============================] - ETA: 0s - loss: 0.3095 - accuracy: 0.8274\n",
            "Epoch 8: val_loss did not improve from 0.47749\n",
            "991/991 [==============================] - 43s 43ms/step - loss: 0.3095 - accuracy: 0.8274 - val_loss: 0.6145 - val_accuracy: 0.7286 - lr: 6.0000e-04\n",
            "Epoch 9/15\n",
            "991/991 [==============================] - ETA: 0s - loss: 0.3010 - accuracy: 0.8322\n",
            "Epoch 9: val_loss did not improve from 0.47749\n",
            "991/991 [==============================] - 43s 43ms/step - loss: 0.3010 - accuracy: 0.8322 - val_loss: 0.6537 - val_accuracy: 0.7266 - lr: 6.0000e-04\n",
            "Epoch 10/15\n",
            "990/991 [============================>.] - ETA: 0s - loss: 0.2948 - accuracy: 0.8328\n",
            "Epoch 10: val_loss did not improve from 0.47749\n",
            "991/991 [==============================] - 44s 44ms/step - loss: 0.2948 - accuracy: 0.8328 - val_loss: 0.6781 - val_accuracy: 0.7260 - lr: 6.0000e-04\n",
            "Epoch 11/15\n",
            "990/991 [============================>.] - ETA: 0s - loss: 0.2856 - accuracy: 0.8365\n",
            "Epoch 11: val_loss did not improve from 0.47749\n",
            "Restoring model weights from the end of the best epoch: 2.\n",
            "991/991 [==============================] - 44s 44ms/step - loss: 0.2856 - accuracy: 0.8365 - val_loss: 0.7644 - val_accuracy: 0.7309 - lr: 6.0000e-04\n",
            "Epoch 11: early stopping\n"
          ]
        },
        {
          "output_type": "execute_result",
          "data": {
            "text/plain": [
              "<keras.callbacks.History at 0x7f43ab34a550>"
            ]
          },
          "metadata": {},
          "execution_count": 43
        }
      ]
    },
    {
      "cell_type": "code",
      "source": [
        "loss_train_rnn, acc_train_rnn = rnn_model.evaluate(x_train_dl_cut, Y_train_binary)"
      ],
      "metadata": {
        "id": "0-QvStctMftk",
        "colab": {
          "base_uri": "https://localhost:8080/"
        },
        "outputId": "56c7c929-ff20-4eda-a731-d82a9de3c4d0"
      },
      "execution_count": null,
      "outputs": [
        {
          "output_type": "stream",
          "name": "stdout",
          "text": [
            "1981/1981 [==============================] - 15s 8ms/step - loss: 0.3919 - accuracy: 0.7997\n"
          ]
        }
      ]
    },
    {
      "cell_type": "markdown",
      "source": [
        "Train accuracy"
      ],
      "metadata": {
        "id": "MsJhMC4XNP7a"
      }
    },
    {
      "cell_type": "code",
      "source": [
        "print(\"Train accuracy score:\", \"{:.3f}\".format(acc_train_rnn))"
      ],
      "metadata": {
        "id": "xBlyLJ7aNNM9",
        "colab": {
          "base_uri": "https://localhost:8080/"
        },
        "outputId": "2a84cee8-a76d-49ea-df0e-202179d4864c"
      },
      "execution_count": null,
      "outputs": [
        {
          "output_type": "stream",
          "name": "stdout",
          "text": [
            "Train accuracy score: 0.800\n"
          ]
        }
      ]
    },
    {
      "cell_type": "code",
      "source": [
        "loss_test_rnn, acc_test_rnn = rnn_model.evaluate(x_test_dl, y_test_binary)"
      ],
      "metadata": {
        "id": "hBA6et95a4Ap",
        "colab": {
          "base_uri": "https://localhost:8080/"
        },
        "outputId": "514f28d5-b2ca-4776-bba1-ffe8f363b61c"
      },
      "execution_count": null,
      "outputs": [
        {
          "output_type": "stream",
          "name": "stdout",
          "text": [
            "133/133 [==============================] - 1s 8ms/step - loss: 0.3352 - accuracy: 0.8424\n"
          ]
        }
      ]
    },
    {
      "cell_type": "markdown",
      "source": [
        "Test accuracy"
      ],
      "metadata": {
        "id": "yefosJKtNS-E"
      }
    },
    {
      "cell_type": "code",
      "source": [
        "print(\"Test accuracy score:\", \"{:.4f}\".format(acc_test_rnn))"
      ],
      "metadata": {
        "id": "RclgMZTINOFP",
        "colab": {
          "base_uri": "https://localhost:8080/"
        },
        "outputId": "8227f985-e20b-4353-fa54-b9a48c1858fb"
      },
      "execution_count": null,
      "outputs": [
        {
          "output_type": "stream",
          "name": "stdout",
          "text": [
            "Test accuracy score: 0.8424\n"
          ]
        }
      ]
    },
    {
      "cell_type": "markdown",
      "source": [
        "We tried different size of embedding and \"max_words\" per dialogue and we got the best results under this values. Although it is common to choose an embedding layer with a dimension of 100-300, it might be due to limited amount of data and not too many words in it, our model like to keep it simple and use a smaller vector. "
      ],
      "metadata": {
        "id": "EqcH7T7gvv75"
      }
    },
    {
      "cell_type": "markdown",
      "source": [
        "### Examine Results"
      ],
      "metadata": {
        "id": "WWELtr0FZI50"
      }
    },
    {
      "cell_type": "code",
      "source": [
        "# Plot Model's Confusion Matrix\n",
        "predictions = rnn_model.predict(x_test_dl)\n",
        "predicted_labels = np.where(predictions >= 0.5, 1, 0).reshape(1,-1).tolist()[0]\n",
        "true_labels = y_test_binary.tolist()\n",
        "class_labels = [0, 1]\n",
        "cm = confusion_matrix(true_labels, predicted_labels, labels=class_labels)\n",
        "disp = ConfusionMatrixDisplay(confusion_matrix=cm, display_labels=class_labels)\n",
        "disp.plot()\n",
        "plt.title(rnn_model.name + \"'s Confusion Matrix\")\n",
        "plt.show()\n",
        "\n",
        "# Plot Prediction accuracy By Character\n",
        "chracters_acc = np.where(np.abs(np.array(predicted_labels) - np.array(true_labels)) == 0)\n",
        "character_counts = (test_df.loc[chracters_acc,'Character'].value_counts())\n",
        "character_names = character_counts.index\n",
        "c_p = {}\n",
        "for c in character_names:\n",
        "  character_app = test_df[test_df['Character'] == c].shape[0]\n",
        "  c_p[c] = round((float(int(character_counts[c])/int(character_app)))* 100,2)\n",
        "fig, ax = plt.subplots()\n",
        "rects = ax.bar(range(len(c_p.values())), c_p.values())\n",
        "for rect in rects:\n",
        "    height = rect.get_height()\n",
        "    ax.text(rect.get_x() + rect.get_width()/2., height, '%.2f' % height, ha='center', va='bottom')\n",
        "plt.bar(c_p.keys(), c_p.values())\n",
        "plt.title('Prediction Accuracy By Character')\n",
        "ax.set_xticklabels(c_p.keys(), rotation=45)\n",
        "se_acc = (cm.diagonal()/cm.sum(axis=1))[1]*100\n",
        "fr_acc = (cm.diagonal()/cm.sum(axis=1))[0]*100\n",
        "ax.axhline(fr_acc, color='blue', linewidth=2)\n",
        "ax.axhline(se_acc, color='green', linewidth=2)\n",
        "plt.show()\n",
        "print('\\n\\tGreen Line - Seinfeld Accuracy: ' + str(round(se_acc,2)))\n",
        "print('\\tBlue Line - Friends Accuracy: ' + str(round(fr_acc,2)))\n",
        "\n",
        "\n"
      ],
      "metadata": {
        "id": "hM4jfGH3G-u5",
        "colab": {
          "base_uri": "https://localhost:8080/",
          "height": 656
        },
        "outputId": "5a523862-94f4-41f6-93bd-bc150d121393"
      },
      "execution_count": null,
      "outputs": [
        {
          "output_type": "stream",
          "name": "stdout",
          "text": [
            "133/133 [==============================] - 1s 7ms/step\n"
          ]
        },
        {
          "output_type": "display_data",
          "data": {
            "text/plain": [
              "<Figure size 432x288 with 2 Axes>"
            ],
            "image/png": "[encoded data removed]"
          },
          "metadata": {
            "needs_background": "light"
          }
        },
        {
          "output_type": "display_data",
          "data": {
            "text/plain": [
              "<Figure size 432x288 with 1 Axes>"
            ],
            "image/png": "[encoded data removed]"
          },
          "metadata": {
            "needs_background": "light"
          }
        },
        {
          "output_type": "stream",
          "name": "stdout",
          "text": [
            "\n",
            "\tGreen Line - Seinfeld Accuracy: 79.99\n",
            "\tBlue Line - Friends Accuracy: 86.94\n"
          ]
        }
      ]
    },
    {
      "cell_type": "markdown",
      "source": [
        "***Report our results per show***"
      ],
      "metadata": {
        "id": "6YEFqhhxmm4Z"
      }
    },
    {
      "cell_type": "code",
      "source": [
        "print(\"Seinfeld accuracy:\", se_acc)\n",
        "print(\"Friends accuracy:\", fr_acc)"
      ],
      "metadata": {
        "id": "LEKYEGc5miMz",
        "colab": {
          "base_uri": "https://localhost:8080/"
        },
        "outputId": "00ab4ecc-15b0-471f-d184-b43a6d338121"
      },
      "execution_count": null,
      "outputs": [
        {
          "output_type": "stream",
          "name": "stdout",
          "text": [
            "Seinfeld accuracy: 79.98787143723469\n",
            "Friends accuracy: 86.94144838212635\n"
          ]
        }
      ]
    },
    {
      "cell_type": "markdown",
      "source": [
        "***Report our results per character***"
      ],
      "metadata": {
        "id": "9qdxCTqvm9EJ"
      }
    },
    {
      "cell_type": "code",
      "source": [
        "print(\"Seinfeld characters accuracy:\")\n",
        "\n",
        "print(\"\\nJerry's accuracy:\", c_p['jerry'])\n",
        "print(\"Elaine's accuracy:\", c_p['elaine'])\n",
        "print(\"George's accuracy:\", c_p['george'])\n",
        "print(\"Kramer's accuracy:\", c_p['kramer'])\n",
        "\n",
        "print(\"\\nFriends characters accuracy:\", fr_acc)\n",
        "\n",
        "print(\"\\nRachel's accuracy:\", c_p['rachel'])\n",
        "print(\"Ross's accuracy:\", c_p['ross'])\n",
        "print(\"Monica's accuracy:\", c_p['monica'])\n",
        "print(\"Chandler's accuracy:\", c_p['chandler'])\n",
        "print(\"Joey's accuracy:\", c_p['joey'])\n",
        "print(\"Phoebe's accuracy:\", c_p['phoebe'])"
      ],
      "metadata": {
        "id": "7CSVMlGZm8gC",
        "colab": {
          "base_uri": "https://localhost:8080/"
        },
        "outputId": "ecc8cc1c-15bf-41bc-a864-44894a9c9a45"
      },
      "execution_count": null,
      "outputs": [
        {
          "output_type": "stream",
          "name": "stdout",
          "text": [
            "Seinfeld characters accuracy:\n",
            "\n",
            "Jerry's accuracy: 80.75\n",
            "Elaine's accuracy: 77.4\n",
            "George's accuracy: 80.17\n",
            "Kramer's accuracy: 80.74\n",
            "\n",
            "Friends characters accuracy: 86.94144838212635\n",
            "\n",
            "Rachel's accuracy: 87.66\n",
            "Ross's accuracy: 89.26\n",
            "Monica's accuracy: 86.39\n",
            "Chandler's accuracy: 84.18\n",
            "Joey's accuracy: 85.38\n",
            "Phoebe's accuracy: 88.58\n"
          ]
        }
      ]
    },
    {
      "cell_type": "markdown",
      "source": [
        "We can tell we had much more success with \"Friends\" dialogues. <br>\n",
        "It might be because we had more data on this show, it might be because they actually easier to identify or it might be beacuse of our model :) <br>\n",
        "But overall the score is satisfying"
      ],
      "metadata": {
        "id": "ZxBOnookoyQE"
      }
    },
    {
      "cell_type": "code",
      "source": [
        "pred_model_test = rnn_model.predict(x_test_dl, verbose=1)\n",
        "pred_model_test_labels = np.round(pred_model_test)\n",
        "model_test_score = accuracy_score(y_test_binary ,pred_model_test_labels)"
      ],
      "metadata": {
        "id": "FnSdXcididIU",
        "colab": {
          "base_uri": "https://localhost:8080/"
        },
        "outputId": "e1131fe8-85b8-4c53-fc18-e39bf6429fc2"
      },
      "execution_count": null,
      "outputs": [
        {
          "output_type": "stream",
          "name": "stdout",
          "text": [
            "133/133 [==============================] - 1s 7ms/step\n"
          ]
        }
      ]
    },
    {
      "cell_type": "code",
      "source": [
        "pred_model_train = rnn_model.predict(x_train_dl_cut, verbose=1)\n",
        "pred_model_train_labels = np.round(pred_model_train)\n",
        "model_train_score = accuracy_score(Y_train_binary ,pred_model_train_labels)"
      ],
      "metadata": {
        "id": "UtTdTEcRiz4u",
        "colab": {
          "base_uri": "https://localhost:8080/"
        },
        "outputId": "9438c118-6381-41e8-c8a3-0b6249c26c4e"
      },
      "execution_count": null,
      "outputs": [
        {
          "output_type": "stream",
          "name": "stdout",
          "text": [
            "1981/1981 [==============================] - 15s 7ms/step\n"
          ]
        }
      ]
    },
    {
      "cell_type": "code",
      "source": [
        "seinfeld_script = train_df['Dialogue'][train_df['Show'] == 'Seinfeld']\n",
        "seinf_train = x_train.loc[seinfeld_script.index.tolist()]\n",
        "longest_dialogue_seinfeld = seinf_train.apply(lambda x: len(x.split())).idxmax()"
      ],
      "metadata": {
        "id": "FgmDFj18jESq"
      },
      "execution_count": null,
      "outputs": []
    },
    {
      "cell_type": "code",
      "source": [
        "friends_script = train_df['Dialogue'][train_df['Show'] == 'Friends']\n",
        "friends_train = x_train.loc[friends_script.index.tolist()]\n",
        "longest_dialogue_friends = friends_train.apply(lambda x: len(x.split())).idxmax()"
      ],
      "metadata": {
        "id": "D1BjwHyxkUA6"
      },
      "execution_count": null,
      "outputs": []
    },
    {
      "cell_type": "markdown",
      "source": [
        "Let's see how Seinfeld longest dialogue looks like using WordCloud"
      ],
      "metadata": {
        "id": "W1csR21Oipqa"
      }
    },
    {
      "cell_type": "code",
      "source": [
        "import matplotlib.pyplot as plt\n",
        "from wordcloud import WordCloud"
      ],
      "metadata": {
        "id": "9FbvYrG7ik_6"
      },
      "execution_count": null,
      "outputs": []
    },
    {
      "cell_type": "code",
      "source": [
        "plt.figure(figsize=(10, 10))\n",
        "plt.title('Seinfeld dialogue')\n",
        "seinfeld_text = x_train[longest_dialogue_seinfeld]\n",
        "WC = WordCloud(width=1000, height=500, max_words=500, min_font_size=5)\n",
        "positive_words = WC.generate(seinfeld_text)\n",
        "plt.imshow(positive_words, interpolation='bilinear')\n",
        "plt.show()"
      ],
      "metadata": {
        "id": "4EsCzFxRifyK",
        "colab": {
          "base_uri": "https://localhost:8080/"
        },
        "outputId": "700e2ac8-1339-4b66-9a82-864077caa8d4"
      },
      "execution_count": null,
      "outputs": [
        {
          "output_type": "display_data",
          "data": {
            "text/plain": [
              "<Figure size 720x720 with 1 Axes>"
            ],
            "image/png": "[encoded data removed]"
          },
          "metadata": {
            "needs_background": "light"
          }
        }
      ]
    },
    {
      "cell_type": "markdown",
      "source": [
        "And Friends longest dialogue\n"
      ],
      "metadata": {
        "id": "Z8QoZukLinZZ"
      }
    },
    {
      "cell_type": "code",
      "source": [
        "plt.figure(figsize=(10, 10))\n",
        "plt.title('Friends dialogue')\n",
        "friends_text = x_train[longest_dialogue_friends]\n",
        "WC = WordCloud(width=1000, height=500, max_words=500, min_font_size=5)\n",
        "positive_words = WC.generate(friends_text)\n",
        "plt.imshow(positive_words, interpolation='bilinear')\n",
        "plt.show()"
      ],
      "metadata": {
        "id": "ynaLsHF4igaQ",
        "colab": {
          "base_uri": "https://localhost:8080/",
          "height": 343
        },
        "outputId": "8dcc1b79-e5ee-4bfe-e5d7-28ee07f74746"
      },
      "execution_count": null,
      "outputs": [
        {
          "output_type": "display_data",
          "data": {
            "text/plain": [
              "<Figure size 720x720 with 1 Axes>"
            ],
            "image/png": "[encoded data removed]"
          },
          "metadata": {
            "needs_background": "light"
          }
        }
      ]
    },
    {
      "cell_type": "code",
      "source": [
        "results = {'model': ['RNN Model'],\n",
        "           'Test score (Accuracy)': [\"{:.4f}\".format(model_test_score)],\n",
        "           'Train score (Accuracy)': [\"{:.3f}\".format(model_train_score)],\n",
        "           'Number of trainable parameters': [\"365,793\"],\n",
        "           'Number of layers': [len(rnn_model.layers)],\n",
        "           'Regularization methods': ['Dropout'],\n",
        "           'Number of epochs': [11],\n",
        "           'Loss function': ['binary crossentropy'],\n",
        "           'Optimizer': ['adam'],\n",
        "           'Embedding dimension': [16]\n",
        "           }\n",
        "\n",
        "df = pd.DataFrame(results)\n",
        "df"
      ],
      "metadata": {
        "id": "Q9CUaq_vh-fN",
        "colab": {
          "base_uri": "https://localhost:8080/"
        },
        "outputId": "e210481d-7685-4f77-f2da-0928421986f9"
      },
      "execution_count": null,
      "outputs": [
        {
          "output_type": "execute_result",
          "data": {
            "text/plain": [
              "       model Test score (Accuracy) Train score (Accuracy)  \\\n",
              "0  RNN Model                0.8424                  0.800   \n",
              "\n",
              "  Number of trainable parameters  Number of layers Regularization methods  \\\n",
              "0                        365,793                 6                Dropout   \n",
              "\n",
              "   Number of epochs        Loss function Optimizer  Embedding dimension  \n",
              "0                11  binary crossentropy      adam                   16  "
            ],
            "text/html": [
              "\n",
              "  <div id=\"df-938e6f5b-e75e-4704-b681-98791bf93fda\">\n",
              "    <div class=\"colab-df-container\">\n",
              "      <div>\n",
              "<style scoped>\n",
              "    .dataframe tbody tr th:only-of-type {\n",
              "        vertical-align: middle;\n",
              "    }\n",
              "\n",
              "    .dataframe tbody tr th {\n",
              "        vertical-align: top;\n",
              "    }\n",
              "\n",
              "    .dataframe thead th {\n",
              "        text-align: right;\n",
              "    }\n",
              "</style>\n",
              "<table border=\"1\" class=\"dataframe\">\n",
              "  <thead>\n",
              "    <tr style=\"text-align: right;\">\n",
              "      <th></th>\n",
              "      <th>model</th>\n",
              "      <th>Test score (Accuracy)</th>\n",
              "      <th>Train score (Accuracy)</th>\n",
              "      <th>Number of trainable parameters</th>\n",
              "      <th>Number of layers</th>\n",
              "      <th>Regularization methods</th>\n",
              "      <th>Number of epochs</th>\n",
              "      <th>Loss function</th>\n",
              "      <th>Optimizer</th>\n",
              "      <th>Embedding dimension</th>\n",
              "    </tr>\n",
              "  </thead>\n",
              "  <tbody>\n",
              "    <tr>\n",
              "      <th>0</th>\n",
              "      <td>RNN Model</td>\n",
              "      <td>0.8424</td>\n",
              "      <td>0.800</td>\n",
              "      <td>365,793</td>\n",
              "      <td>6</td>\n",
              "      <td>Dropout</td>\n",
              "      <td>11</td>\n",
              "      <td>binary crossentropy</td>\n",
              "      <td>adam</td>\n",
              "      <td>16</td>\n",
              "    </tr>\n",
              "  </tbody>\n",
              "</table>\n",
              "</div>\n",
              "      <button class=\"colab-df-convert\" onclick=\"convertToInteractive('df-938e6f5b-e75e-4704-b681-98791bf93fda')\"\n",
              "              title=\"Convert this dataframe to an interactive table.\"\n",
              "              style=\"display:none;\">\n",
              "        \n",
              "  <svg xmlns=\"http://www.w3.org/2000/svg\" height=\"24px\"viewBox=\"0 0 24 24\"\n",
              "       width=\"24px\">\n",
              "    <path d=\"M0 0h24v24H0V0z\" fill=\"none\"/>\n",
              "    <path d=\"M18.56 5.44l.94 2.06.94-2.06 2.06-.94-2.06-.94-.94-2.06-.94 2.06-2.06.94zm-11 1L8.5 8.5l.94-2.06 2.06-.94-2.06-.94L8.5 2.5l-.94 2.06-2.06.94zm10 10l.94 2.06.94-2.06 2.06-.94-2.06-.94-.94-2.06-.94 2.06-2.06.94z\"/><path d=\"M17.41 7.96l-1.37-1.37c-.4-.4-.92-.59-1.43-.59-.52 0-1.04.2-1.43.59L10.3 9.45l-7.72 7.72c-.78.78-.78 2.05 0 2.83L4 21.41c.39.39.9.59 1.41.59.51 0 1.02-.2 1.41-.59l7.78-7.78 2.81-2.81c.8-.78.8-2.07 0-2.86zM5.41 20L4 18.59l7.72-7.72 1.47 1.35L5.41 20z\"/>\n",
              "  </svg>\n",
              "      </button>\n",
              "      \n",
              "  <style>\n",
              "    .colab-df-container {\n",
              "      display:flex;\n",
              "      flex-wrap:wrap;\n",
              "      gap: 12px;\n",
              "    }\n",
              "\n",
              "    .colab-df-convert {\n",
              "      background-color: #E8F0FE;\n",
              "      border: none;\n",
              "      border-radius: 50%;\n",
              "      cursor: pointer;\n",
              "      display: none;\n",
              "      fill: #1967D2;\n",
              "      height: 32px;\n",
              "      padding: 0 0 0 0;\n",
              "      width: 32px;\n",
              "    }\n",
              "\n",
              "    .colab-df-convert:hover {\n",
              "      background-color: #E2EBFA;\n",
              "      box-shadow: 0px 1px 2px rgba(60, 64, 67, 0.3), 0px 1px 3px 1px rgba(60, 64, 67, 0.15);\n",
              "      fill: #174EA6;\n",
              "    }\n",
              "\n",
              "    [theme=dark] .colab-df-convert {\n",
              "      background-color: #3B4455;\n",
              "      fill: #D2E3FC;\n",
              "    }\n",
              "\n",
              "    [theme=dark] .colab-df-convert:hover {\n",
              "      background-color: #434B5C;\n",
              "      box-shadow: 0px 1px 3px 1px rgba(0, 0, 0, 0.15);\n",
              "      filter: drop-shadow(0px 1px 2px rgba(0, 0, 0, 0.3));\n",
              "      fill: #FFFFFF;\n",
              "    }\n",
              "  </style>\n",
              "\n",
              "      <script>\n",
              "        const buttonEl =\n",
              "          document.querySelector('#df-938e6f5b-e75e-4704-b681-98791bf93fda button.colab-df-convert');\n",
              "        buttonEl.style.display =\n",
              "          google.colab.kernel.accessAllowed ? 'block' : 'none';\n",
              "\n",
              "        async function convertToInteractive(key) {\n",
              "          const element = document.querySelector('#df-938e6f5b-e75e-4704-b681-98791bf93fda');\n",
              "          const dataTable =\n",
              "            await google.colab.kernel.invokeFunction('convertToInteractive',\n",
              "                                                     [key], {});\n",
              "          if (!dataTable) return;\n",
              "\n",
              "          const docLinkHtml = 'Like what you see? Visit the ' +\n",
              "            '<a target=\"_blank\" href=https://colab.research.google.com/notebooks/data_table.ipynb>data table notebook</a>'\n",
              "            + ' to learn more about interactive tables.';\n",
              "          element.innerHTML = '';\n",
              "          dataTable['output_type'] = 'display_data';\n",
              "          await google.colab.output.renderOutput(dataTable, element);\n",
              "          const docLink = document.createElement('div');\n",
              "          docLink.innerHTML = docLinkHtml;\n",
              "          element.appendChild(docLink);\n",
              "        }\n",
              "      </script>\n",
              "    </div>\n",
              "  </div>\n",
              "  "
            ]
          },
          "metadata": {},
          "execution_count": 58
        }
      ]
    },
    {
      "cell_type": "code",
      "source": [
        "df.to_csv(os.path.join(os.getcwd(), 'exercise3.csv'))\n",
        "df.to_csv(\"/content/drive/My Drive/Colab Notebooks/EX3/exercise3.csv\")"
      ],
      "metadata": {
        "id": "MH9nc47AiFHV"
      },
      "execution_count": null,
      "outputs": []
    }
  ]
}